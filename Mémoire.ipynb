{
 "cells": [
  {
   "cell_type": "code",
   "execution_count": 2,
   "id": "771094f6-aea3-412d-a396-9318836a96e1",
   "metadata": {},
   "outputs": [
    {
     "data": {
      "text/plain": [
       "<Response [200]>"
      ]
     },
     "execution_count": 2,
     "metadata": {},
     "output_type": "execute_result"
    }
   ],
   "source": [
    "import pandas as pd\n",
    "import numpy as np\n",
    "import requests \n",
    "import json\n",
    "requests.get('https://api.github.com')\n"
   ]
  },
  {
   "cell_type": "markdown",
   "id": "888076c8-5430-4efe-a93a-42a48d755dd4",
   "metadata": {},
   "source": [
    "Importation des librairies et test de la libraire requests"
   ]
  },
  {
   "cell_type": "code",
   "execution_count": 2,
   "id": "e392c409-0b1f-4c52-9250-55c1f77e0d2e",
   "metadata": {},
   "outputs": [
    {
     "data": {
      "text/plain": [
       "<bound method NDFrame.describe of               login type_GT\n",
       "0      brotherlogic     bot\n",
       "1         coveralls     bot\n",
       "2          renovate     bot\n",
       "3          leocwlam     bot\n",
       "4         fabric8cd     bot\n",
       "...             ...     ...\n",
       "1487       raphaelm   human\n",
       "1488     TroyAlford   human\n",
       "1489          daffl   human\n",
       "1490  bryanyang0528   human\n",
       "1491    ConnorRigby   human\n",
       "\n",
       "[1492 rows x 2 columns]>"
      ]
     },
     "execution_count": 2,
     "metadata": {},
     "output_type": "execute_result"
    }
   ],
   "source": [
    "account = pd.read_csv(\"account_groundTruth[92].csv\")\n",
    "account = account.iloc[:,[1,2]] #used because otherwise the account number are there twice \n",
    "# 0              0                       brotherlogic     bot        \n",
    "#instead of\n",
    "#0                       brotherlogic     bot\n",
    "#print(account.to_string())\n",
    "account.describe"
   ]
  },
  {
   "cell_type": "markdown",
   "id": "b2668635-e2d1-4c0f-81b5-dba7af55b584",
   "metadata": {},
   "source": [
    "Utilisation de panda pour récupérer la base de données contenant les bots et compte humains."
   ]
  },
  {
   "cell_type": "code",
   "execution_count": 3,
   "id": "788337ac-4589-4370-a299-14cee30d5adb",
   "metadata": {},
   "outputs": [
    {
     "data": {
      "text/plain": [
       "'bot'"
      ]
     },
     "execution_count": 3,
     "metadata": {},
     "output_type": "execute_result"
    }
   ],
   "source": [
    "values = account.values\n",
    "checker = dict(values)\n",
    "checker[\"brotherlogic\"]"
   ]
  },
  {
   "cell_type": "markdown",
   "id": "18bdba34-0f2a-4ce2-9efa-ce4f631e8841",
   "metadata": {},
   "source": [
    "Création d'un dictionnaire pour que lorsque la fonction de recherche pour les bots sera établie, si celle ci a bien détecté un bot ou non."
   ]
  },
  {
   "cell_type": "code",
   "execution_count": 4,
   "id": "da171dfb-fa3f-420d-8efe-b047079994f2",
   "metadata": {},
   "outputs": [],
   "source": [
    "\"\"\"\n",
    "def check(login,boolBot):\n",
    "    if (boolBot):\n",
    "        return (checker[login] == \"bot\")\n",
    "    else:\n",
    "        return (checker[login] == \"human\")\n",
    "    \n",
    "print(check(\"brotherlogic\",True))\n",
    "print(check(\"coveralls\",False))\n",
    "print(check(\"ConnorRigby\",False))\n",
    "print(check(\"ConnorRigby\",True))\n",
    "\"\"\"\n",
    "def checkbot(login):\n",
    "    return (checker[login] == \"bot\")\n",
    "\n",
    "def checkhuman(login):\n",
    "    return (checker[login] == \"human\")\n",
    "\n"
   ]
  },
  {
   "cell_type": "markdown",
   "id": "644a3345-a3ff-48b9-bc5d-c3d3cdfb03b9",
   "metadata": {},
   "source": [
    "Fonctions servant juste à vérifier correctement dans le dictionnaire"
   ]
  },
  {
   "cell_type": "code",
   "execution_count": 5,
   "id": "89fe1a32-7e5c-4404-973b-94074706b616",
   "metadata": {},
   "outputs": [],
   "source": [
    "b_set = account.head(25) #bot set of size 25\n",
    "h_set = account.tail(25) #human set of size 25\n",
    "m_set = pd.concat([b_set,h_set])                 #mixed set of size 50\n",
    "m_set = m_set.reset_index(drop = True)           #maybe not needed but \"cleans\" the dataframe\n",
    "                                                 # so it goes from 1 to 50 instead of 1 to 25 then 1467 to 1491\n",
    "#print(m_set.to_string())\n",
    "#print(b_set.to_string())\n",
    "#print(h_set.to_string())"
   ]
  },
  {
   "cell_type": "markdown",
   "id": "eaf43f31-f36d-4a5f-86a6-6c6f6a08b85d",
   "metadata": {},
   "source": [
    "Création d'une dataframe plus petite pour commencer"
   ]
  },
  {
   "cell_type": "code",
   "execution_count": 22,
   "id": "a7e6abe6-7d0e-4139-8e75-9e0a4b50a715",
   "metadata": {},
   "outputs": [],
   "source": [
    "#r = requests.get('https://api.github.com/events')\n",
    "r = requests.get(\"https://api.github.com/users/brotherlogic/events\")\n",
    "activity = r.json()\n",
    "#print(activity)\n",
    "\n",
    "\n",
    "\n"
   ]
  },
  {
   "cell_type": "raw",
   "id": "f8f4e6bd-9887-44ce-987b-7b73a44bd5da",
   "metadata": {},
   "source": [
    "with open (\"test.json\",\"w\") as outfile:\n",
    "    outfile.write(json.dumps(activity,indent = 4))\n",
    "#activity = r.text\n",
    "\n",
    "with open (\"test.json\",\"w\") as outfile:\n",
    "    json.dump(activity,outfile,indent = 4)\n",
    "\n",
    "with open (\"events.json\",\"r\") as handle:\n",
    "    parsed = json.load(handle)\n",
    "    print(parsed)\n",
    "#print(activity)\n",
    "\n",
    "\n",
    "different essais pour avoir un \"bon\" drop d'un fichier .json\n"
   ]
  },
  {
   "cell_type": "code",
   "execution_count": 23,
   "id": "c97e79c0-1b8d-408b-80ae-947e7557e0bc",
   "metadata": {},
   "outputs": [],
   "source": [
    "def getactivities(list_login):\n",
    "    for login in list_login:\n",
    "        r = requests.get(\"https://api.github.com/users/{name}/events\".format(name=login))\n",
    "        activity = r.json()\n",
    "        with open(\"./activities/{name}.json\".format(name = login),\"w\") as outfile:\n",
    "            json.dump(activity,outfile)"
   ]
  },
  {
   "cell_type": "markdown",
   "id": "c2805dd6-d54f-46cf-9bfe-bd17462b7845",
   "metadata": {},
   "source": [
    "Création d'une fonction pour récupérer les activités des comptes.\n",
    "Vérifier pourquoi certains fichiers json sont juste sous la forme root: \"[]\"\n",
    "Vérifier aussi pourquoi les fichiers ne sont plus \"reconnu\" comme json (regarder fichier test.json et event.json)\n",
    "Problème réglés (changer le r.text en r.json() )"
   ]
  },
  {
   "cell_type": "code",
   "execution_count": 24,
   "id": "09cfcf93-d25e-46b1-b475-8cd3281b623e",
   "metadata": {},
   "outputs": [
    {
     "name": "stdout",
     "output_type": "stream",
     "text": [
      "['brotherlogic', 'coveralls', 'renovate', 'leocwlam', 'fabric8cd']\n"
     ]
    }
   ],
   "source": [
    "sample = account.head(5)\n",
    "login_sample = sample.login.values.tolist()\n",
    "print(login_sample)\n",
    "\n",
    "getactivities(login_sample)"
   ]
  },
  {
   "cell_type": "code",
   "execution_count": 25,
   "id": "a24813d5-54fc-4176-9a5d-3ec099964252",
   "metadata": {},
   "outputs": [
    {
     "name": "stdout",
     "output_type": "stream",
     "text": [
      "['raphaelm', 'TroyAlford', 'daffl', 'bryanyang0528', 'ConnorRigby']\n"
     ]
    }
   ],
   "source": [
    "sample1 = account.tail(5)\n",
    "login_sample1 = sample1.login.values.tolist()\n",
    "print(login_sample1)\n",
    "\n",
    "getactivities(login_sample1)"
   ]
  },
  {
   "cell_type": "markdown",
   "id": "435ee653-b187-4d77-b0b3-e9f2ef260fd1",
   "metadata": {},
   "source": [
    "Utilisation de la fonction et récupération une première fois des activités des comptes"
   ]
  },
  {
   "cell_type": "code",
   "execution_count": 6,
   "id": "5c0bc281-f063-4dca-b188-45e28f1c4047",
   "metadata": {},
   "outputs": [
    {
     "data": {
      "text/plain": [
       "<bound method NDFrame.describe of              id         type  \\\n",
       "0   24873774045    PushEvent   \n",
       "1   24873471528  IssuesEvent   \n",
       "2   24869221132  IssuesEvent   \n",
       "3   24869212603  IssuesEvent   \n",
       "4   24869161668  IssuesEvent   \n",
       "5   24868441159  IssuesEvent   \n",
       "6   24868306421  IssuesEvent   \n",
       "7   24868253652  IssuesEvent   \n",
       "8   24868216548  IssuesEvent   \n",
       "9   24868216752  IssuesEvent   \n",
       "10  24868214359  IssuesEvent   \n",
       "11  24867920925  IssuesEvent   \n",
       "12  24867907997  IssuesEvent   \n",
       "13  24867848431  IssuesEvent   \n",
       "14  24867826726  IssuesEvent   \n",
       "15  24867806010  IssuesEvent   \n",
       "16  24867800506  IssuesEvent   \n",
       "17  24855614347  IssuesEvent   \n",
       "18  24855597616  IssuesEvent   \n",
       "19  24855594508  IssuesEvent   \n",
       "20  24855559923  IssuesEvent   \n",
       "21  24855451558  IssuesEvent   \n",
       "22  24855436634  IssuesEvent   \n",
       "23  24855436225  IssuesEvent   \n",
       "24  24855415272  IssuesEvent   \n",
       "25  24855413177  IssuesEvent   \n",
       "26  24855297208  IssuesEvent   \n",
       "27  24855107296  IssuesEvent   \n",
       "28  24855092494  IssuesEvent   \n",
       "29  24855092010  IssuesEvent   \n",
       "\n",
       "                                                actor  \\\n",
       "0   {'id': 5978, 'login': 'brotherlogic', 'display...   \n",
       "1   {'id': 5978, 'login': 'brotherlogic', 'display...   \n",
       "2   {'id': 5978, 'login': 'brotherlogic', 'display...   \n",
       "3   {'id': 5978, 'login': 'brotherlogic', 'display...   \n",
       "4   {'id': 5978, 'login': 'brotherlogic', 'display...   \n",
       "5   {'id': 5978, 'login': 'brotherlogic', 'display...   \n",
       "6   {'id': 5978, 'login': 'brotherlogic', 'display...   \n",
       "7   {'id': 5978, 'login': 'brotherlogic', 'display...   \n",
       "8   {'id': 5978, 'login': 'brotherlogic', 'display...   \n",
       "9   {'id': 5978, 'login': 'brotherlogic', 'display...   \n",
       "10  {'id': 5978, 'login': 'brotherlogic', 'display...   \n",
       "11  {'id': 5978, 'login': 'brotherlogic', 'display...   \n",
       "12  {'id': 5978, 'login': 'brotherlogic', 'display...   \n",
       "13  {'id': 5978, 'login': 'brotherlogic', 'display...   \n",
       "14  {'id': 5978, 'login': 'brotherlogic', 'display...   \n",
       "15  {'id': 5978, 'login': 'brotherlogic', 'display...   \n",
       "16  {'id': 5978, 'login': 'brotherlogic', 'display...   \n",
       "17  {'id': 5978, 'login': 'brotherlogic', 'display...   \n",
       "18  {'id': 5978, 'login': 'brotherlogic', 'display...   \n",
       "19  {'id': 5978, 'login': 'brotherlogic', 'display...   \n",
       "20  {'id': 5978, 'login': 'brotherlogic', 'display...   \n",
       "21  {'id': 5978, 'login': 'brotherlogic', 'display...   \n",
       "22  {'id': 5978, 'login': 'brotherlogic', 'display...   \n",
       "23  {'id': 5978, 'login': 'brotherlogic', 'display...   \n",
       "24  {'id': 5978, 'login': 'brotherlogic', 'display...   \n",
       "25  {'id': 5978, 'login': 'brotherlogic', 'display...   \n",
       "26  {'id': 5978, 'login': 'brotherlogic', 'display...   \n",
       "27  {'id': 5978, 'login': 'brotherlogic', 'display...   \n",
       "28  {'id': 5978, 'login': 'brotherlogic', 'display...   \n",
       "29  {'id': 5978, 'login': 'brotherlogic', 'display...   \n",
       "\n",
       "                                                 repo  \\\n",
       "0   {'id': 432196292, 'name': 'brotherlogic/advent...   \n",
       "1   {'id': 392799773, 'name': 'brotherlogic/record...   \n",
       "2   {'id': 117455905, 'name': 'brotherlogic/cdproc...   \n",
       "3   {'id': 468560808, 'name': 'brotherlogic/record...   \n",
       "4   {'id': 440266427, 'name': 'brotherlogic/displa...   \n",
       "5   {'id': 117455905, 'name': 'brotherlogic/cdproc...   \n",
       "6   {'id': 489803052, 'name': 'brotherlogic/bandca...   \n",
       "7   {'id': 119125936, 'name': 'brotherlogic/record...   \n",
       "8   {'id': 119125936, 'name': 'brotherlogic/record...   \n",
       "9   {'id': 489803052, 'name': 'brotherlogic/bandca...   \n",
       "10  {'id': 119125936, 'name': 'brotherlogic/record...   \n",
       "11  {'id': 119125936, 'name': 'brotherlogic/record...   \n",
       "12  {'id': 489803052, 'name': 'brotherlogic/bandca...   \n",
       "13  {'id': 489803052, 'name': 'brotherlogic/bandca...   \n",
       "14  {'id': 117455905, 'name': 'brotherlogic/cdproc...   \n",
       "15  {'id': 119125936, 'name': 'brotherlogic/record...   \n",
       "16  {'id': 119125936, 'name': 'brotherlogic/record...   \n",
       "17  {'id': 119125936, 'name': 'brotherlogic/record...   \n",
       "18  {'id': 119125936, 'name': 'brotherlogic/record...   \n",
       "19  {'id': 119125936, 'name': 'brotherlogic/record...   \n",
       "20  {'id': 119125936, 'name': 'brotherlogic/record...   \n",
       "21  {'id': 119125936, 'name': 'brotherlogic/record...   \n",
       "22  {'id': 119125936, 'name': 'brotherlogic/record...   \n",
       "23  {'id': 119125936, 'name': 'brotherlogic/record...   \n",
       "24  {'id': 119125936, 'name': 'brotherlogic/record...   \n",
       "25  {'id': 119125936, 'name': 'brotherlogic/record...   \n",
       "26  {'id': 119125936, 'name': 'brotherlogic/record...   \n",
       "27  {'id': 119125936, 'name': 'brotherlogic/record...   \n",
       "28  {'id': 119125936, 'name': 'brotherlogic/record...   \n",
       "29  {'id': 119125936, 'name': 'brotherlogic/record...   \n",
       "\n",
       "                                              payload  public  \\\n",
       "0   {'push_id': 11471949890, 'size': 1, 'distinct_...    True   \n",
       "1   {'action': 'opened', 'issue': {'url': 'https:/...    True   \n",
       "2   {'action': 'closed', 'issue': {'url': 'https:/...    True   \n",
       "3   {'action': 'opened', 'issue': {'url': 'https:/...    True   \n",
       "4   {'action': 'opened', 'issue': {'url': 'https:/...    True   \n",
       "5   {'action': 'opened', 'issue': {'url': 'https:/...    True   \n",
       "6   {'action': 'opened', 'issue': {'url': 'https:/...    True   \n",
       "7   {'action': 'closed', 'issue': {'url': 'https:/...    True   \n",
       "8   {'action': 'opened', 'issue': {'url': 'https:/...    True   \n",
       "9   {'action': 'closed', 'issue': {'url': 'https:/...    True   \n",
       "10  {'action': 'closed', 'issue': {'url': 'https:/...    True   \n",
       "11  {'action': 'opened', 'issue': {'url': 'https:/...    True   \n",
       "12  {'action': 'opened', 'issue': {'url': 'https:/...    True   \n",
       "13  {'action': 'closed', 'issue': {'url': 'https:/...    True   \n",
       "14  {'action': 'closed', 'issue': {'url': 'https:/...    True   \n",
       "15  {'action': 'closed', 'issue': {'url': 'https:/...    True   \n",
       "16  {'action': 'closed', 'issue': {'url': 'https:/...    True   \n",
       "17  {'action': 'opened', 'issue': {'url': 'https:/...    True   \n",
       "18  {'action': 'opened', 'issue': {'url': 'https:/...    True   \n",
       "19  {'action': 'closed', 'issue': {'url': 'https:/...    True   \n",
       "20  {'action': 'opened', 'issue': {'url': 'https:/...    True   \n",
       "21  {'action': 'opened', 'issue': {'url': 'https:/...    True   \n",
       "22  {'action': 'opened', 'issue': {'url': 'https:/...    True   \n",
       "23  {'action': 'closed', 'issue': {'url': 'https:/...    True   \n",
       "24  {'action': 'opened', 'issue': {'url': 'https:/...    True   \n",
       "25  {'action': 'closed', 'issue': {'url': 'https:/...    True   \n",
       "26  {'action': 'opened', 'issue': {'url': 'https:/...    True   \n",
       "27  {'action': 'closed', 'issue': {'url': 'https:/...    True   \n",
       "28  {'action': 'opened', 'issue': {'url': 'https:/...    True   \n",
       "29  {'action': 'closed', 'issue': {'url': 'https:/...    True   \n",
       "\n",
       "                  created_at  \n",
       "0  2022-10-27 17:15:27+00:00  \n",
       "1  2022-10-27 17:00:36+00:00  \n",
       "2  2022-10-27 14:08:00+00:00  \n",
       "3  2022-10-27 14:07:40+00:00  \n",
       "4  2022-10-27 14:05:50+00:00  \n",
       "5  2022-10-27 13:39:44+00:00  \n",
       "6  2022-10-27 13:34:36+00:00  \n",
       "7  2022-10-27 13:32:38+00:00  \n",
       "8  2022-10-27 13:31:15+00:00  \n",
       "9  2022-10-27 13:31:15+00:00  \n",
       "10 2022-10-27 13:31:10+00:00  \n",
       "11 2022-10-27 13:20:15+00:00  \n",
       "12 2022-10-27 13:19:46+00:00  \n",
       "13 2022-10-27 13:17:31+00:00  \n",
       "14 2022-10-27 13:16:41+00:00  \n",
       "15 2022-10-27 13:15:52+00:00  \n",
       "16 2022-10-27 13:15:39+00:00  \n",
       "17 2022-10-27 01:46:50+00:00  \n",
       "18 2022-10-27 01:45:17+00:00  \n",
       "19 2022-10-27 01:45:00+00:00  \n",
       "20 2022-10-27 01:41:39+00:00  \n",
       "21 2022-10-27 01:31:17+00:00  \n",
       "22 2022-10-27 01:29:58+00:00  \n",
       "23 2022-10-27 01:29:54+00:00  \n",
       "24 2022-10-27 01:28:01+00:00  \n",
       "25 2022-10-27 01:27:49+00:00  \n",
       "26 2022-10-27 01:17:24+00:00  \n",
       "27 2022-10-27 00:59:59+00:00  \n",
       "28 2022-10-27 00:58:36+00:00  \n",
       "29 2022-10-27 00:58:33+00:00  >"
      ]
     },
     "execution_count": 6,
     "metadata": {},
     "output_type": "execute_result"
    }
   ],
   "source": [
    "df = pd.read_json(\"test.json\")\n",
    "df.describe"
   ]
  },
  {
   "cell_type": "code",
   "execution_count": null,
   "id": "fd5e60ff-76e7-4291-88f8-91de0f7f7b80",
   "metadata": {},
   "outputs": [],
   "source": []
  }
 ],
 "metadata": {
  "kernelspec": {
   "display_name": "Python 3 (ipykernel)",
   "language": "python",
   "name": "python3"
  },
  "language_info": {
   "codemirror_mode": {
    "name": "ipython",
    "version": 3
   },
   "file_extension": ".py",
   "mimetype": "text/x-python",
   "name": "python",
   "nbconvert_exporter": "python",
   "pygments_lexer": "ipython3",
   "version": "3.10.6"
  }
 },
 "nbformat": 4,
 "nbformat_minor": 5
}
