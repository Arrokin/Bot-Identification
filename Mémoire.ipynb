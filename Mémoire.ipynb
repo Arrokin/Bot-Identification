{
 "cells": [
  {
   "cell_type": "code",
   "execution_count": 14,
   "id": "771094f6-aea3-412d-a396-9318836a96e1",
   "metadata": {},
   "outputs": [
    {
     "data": {
      "text/plain": [
       "<Response [200]>"
      ]
     },
     "execution_count": 14,
     "metadata": {},
     "output_type": "execute_result"
    }
   ],
   "source": [
    "import pandas as pd\n",
    "import numpy as np\n",
    "import requests \n",
    "import json\n",
    "requests.get('https://api.github.com')\n"
   ]
  },
  {
   "cell_type": "markdown",
   "id": "888076c8-5430-4efe-a93a-42a48d755dd4",
   "metadata": {},
   "source": [
    "Importation des librairies et test de la libraire requests"
   ]
  },
  {
   "cell_type": "code",
   "execution_count": 15,
   "id": "e392c409-0b1f-4c52-9250-55c1f77e0d2e",
   "metadata": {},
   "outputs": [
    {
     "data": {
      "text/plain": [
       "<bound method NDFrame.describe of               login type_GT\n",
       "0      brotherlogic     bot\n",
       "1         coveralls     bot\n",
       "2          renovate     bot\n",
       "3          leocwlam     bot\n",
       "4         fabric8cd     bot\n",
       "...             ...     ...\n",
       "1487       raphaelm   human\n",
       "1488     TroyAlford   human\n",
       "1489          daffl   human\n",
       "1490  bryanyang0528   human\n",
       "1491    ConnorRigby   human\n",
       "\n",
       "[1492 rows x 2 columns]>"
      ]
     },
     "execution_count": 15,
     "metadata": {},
     "output_type": "execute_result"
    }
   ],
   "source": [
    "account = pd.read_csv(\"account_groundTruth[92].csv\")\n",
    "account = account.iloc[:,[1,2]] #used because otherwise the account number are there twice \n",
    "# 0              0                       brotherlogic     bot        \n",
    "#instead of\n",
    "#0                       brotherlogic     bot\n",
    "#print(account.to_string())\n",
    "account.describe"
   ]
  },
  {
   "cell_type": "markdown",
   "id": "b2668635-e2d1-4c0f-81b5-dba7af55b584",
   "metadata": {},
   "source": [
    "Utilisation de panda pour récupérer la base de données contenant les bots et compte humains."
   ]
  },
  {
   "cell_type": "code",
   "execution_count": 16,
   "id": "788337ac-4589-4370-a299-14cee30d5adb",
   "metadata": {},
   "outputs": [
    {
     "data": {
      "text/plain": [
       "'bot'"
      ]
     },
     "execution_count": 16,
     "metadata": {},
     "output_type": "execute_result"
    }
   ],
   "source": [
    "values = account.values\n",
    "checker = dict(values)\n",
    "checker[\"brotherlogic\"]"
   ]
  },
  {
   "cell_type": "markdown",
   "id": "18bdba34-0f2a-4ce2-9efa-ce4f631e8841",
   "metadata": {},
   "source": [
    "Création d'un dictionnaire pour que lorsque la fonction de recherche pour les bots sera établie, si celle ci a bien détecté un bot ou non."
   ]
  },
  {
   "cell_type": "code",
   "execution_count": 17,
   "id": "da171dfb-fa3f-420d-8efe-b047079994f2",
   "metadata": {},
   "outputs": [],
   "source": [
    "\"\"\"\n",
    "def check(login,boolBot):\n",
    "    if (boolBot):\n",
    "        return (checker[login] == \"bot\")\n",
    "    else:\n",
    "        return (checker[login] == \"human\")\n",
    "    \n",
    "print(check(\"brotherlogic\",True))\n",
    "print(check(\"coveralls\",False))\n",
    "print(check(\"ConnorRigby\",False))\n",
    "print(check(\"ConnorRigby\",True))\n",
    "\"\"\"\n",
    "def checkbot(login):\n",
    "    return (checker[login] == \"bot\")\n",
    "\n",
    "def checkhuman(login):\n",
    "    return (checker[login] == \"human\")\n",
    "\n"
   ]
  },
  {
   "cell_type": "markdown",
   "id": "644a3345-a3ff-48b9-bc5d-c3d3cdfb03b9",
   "metadata": {},
   "source": [
    "Fonctions servant juste à vérifier correctement dans le dictionnaire"
   ]
  },
  {
   "cell_type": "code",
   "execution_count": 18,
   "id": "89fe1a32-7e5c-4404-973b-94074706b616",
   "metadata": {},
   "outputs": [],
   "source": [
    "b_set = account.head(25) #bot set of size 25\n",
    "h_set = account.tail(25) #human set of size 25\n",
    "m_set = pd.concat([b_set,h_set])                 #mixed set of size 50\n",
    "m_set = m_set.reset_index(drop = True)           #maybe not needed but \"cleans\" the dataframe\n",
    "                                                 # so it goes from 1 to 50 instead of 1 to 25 then 1467 to 1491\n",
    "#print(m_set.to_string())\n",
    "#print(b_set.to_string())\n",
    "#print(h_set.to_string())"
   ]
  },
  {
   "cell_type": "markdown",
   "id": "eaf43f31-f36d-4a5f-86a6-6c6f6a08b85d",
   "metadata": {},
   "source": [
    "Création d'une dataframe plus petite pour commencer"
   ]
  },
  {
   "cell_type": "code",
   "execution_count": 33,
   "id": "a7e6abe6-7d0e-4139-8e75-9e0a4b50a715",
   "metadata": {},
   "outputs": [],
   "source": [
    "#r = requests.get('https://api.github.com/events')\n",
    "for i in range( 1,4):\n",
    "    payload = {'per_page' : '100' ,'page' : '{}'.format (i)}\n",
    "    r = requests.get(\"https://api.github.com/users/brotherlogic/events\",params=payload)\n",
    "    activity = r.json()\n",
    "    with open (\"./test/test{}.json\".format(i),\"w\") as outfile:\n",
    "        json.dump(activity,outfile, indent = 4)\n",
    "        \n",
    "outfile.close()\n",
    "\n",
    "\n"
   ]
  },
  {
   "cell_type": "code",
   "execution_count": 43,
   "id": "a416e2d4",
   "metadata": {},
   "outputs": [],
   "source": [
    "payload = {'per_page' : '100' ,'page' : '[1,2,3]'}\n",
    "r = requests.get(\"https://api.github.com/users/brotherlogic/events\",params=payload)\n",
    "activity = r.json()\n",
    "with open (\"./new.json\",\"w\") as outfile:\n",
    "    json.dump(activity,outfile, indent = 4)\n",
    "outfile.close()"
   ]
  },
  {
   "cell_type": "raw",
   "id": "f8f4e6bd-9887-44ce-987b-7b73a44bd5da",
   "metadata": {},
   "source": [
    "with open (\"test.json\",\"w\") as outfile:\n",
    "    outfile.write(json.dumps(activity,indent = 4))\n",
    "#activity = r.text\n",
    "\n",
    "with open (\"test.json\",\"w\") as outfile:\n",
    "    json.dump(activity,outfile,indent = 4)\n",
    "\n",
    "with open (\"events.json\",\"r\") as handle:\n",
    "    parsed = json.load(handle)\n",
    "    print(parsed)\n",
    "#print(activity)\n",
    "\n",
    "\n",
    "different essais pour avoir un \"bon\" drop d'un fichier .json\n",
    "Inutile finalement on arrive à lire en transformant en dataframe\n"
   ]
  },
  {
   "cell_type": "code",
   "execution_count": 36,
   "id": "c97e79c0-1b8d-408b-80ae-947e7557e0bc",
   "metadata": {},
   "outputs": [],
   "source": [
    "def getactivities(list_login):\n",
    "    for login in list_login:\n",
    "        for i in range (1,4):\n",
    "            r = requests.get(\"https://api.github.com/users/{name}/events\".format(name=login))\n",
    "            activity = r.json()\n",
    "            with open(\"./activities/{name}{number}.json\".format(name = login,number = i),\"w\") as outfile:\n",
    "                json.dump(activity,outfile,indent = 4)"
   ]
  },
  {
   "cell_type": "code",
   "execution_count": null,
   "id": "df15c8ff",
   "metadata": {},
   "outputs": [],
   "source": [
    "def funct(login):\n",
    "    lst = []\n",
    "    for i in range (1,4):\n",
    "            r = requests.get(\"https://api.github.com/users/{name}/events\".format(name=login))\n",
    "            activity = r.json()\n",
    "            lst.append(activity)\n",
    "            first = json.load(lst[0])\n",
    "            second= json.load(lst[1])\n",
    "            third = json.load(lst[2])\n",
    "            "
   ]
  },
  {
   "cell_type": "markdown",
   "id": "c2805dd6-d54f-46cf-9bfe-bd17462b7845",
   "metadata": {},
   "source": [
    "Création d'une fonction pour récupérer les activités des comptes.\n",
    "Vérifier pourquoi certains fichiers json sont juste sous la forme root: \"[]\"\n",
    "Vérifier aussi pourquoi les fichiers ne sont plus \"reconnu\" comme json (regarder fichier test.json et event.json)\n",
    "Problème réglés (changer le r.text en r.json() )\n",
    "Ne marche plus après être passé sur vscode"
   ]
  },
  {
   "cell_type": "markdown",
   "id": "7e497398",
   "metadata": {},
   "source": []
  },
  {
   "cell_type": "code",
   "execution_count": 38,
   "id": "09cfcf93-d25e-46b1-b475-8cd3281b623e",
   "metadata": {},
   "outputs": [
    {
     "name": "stdout",
     "output_type": "stream",
     "text": [
      "['brotherlogic', 'coveralls', 'renovate', 'leocwlam', 'fabric8cd']\n"
     ]
    }
   ],
   "source": [
    "sample = account.head(5)\n",
    "login_sample = sample.login.values.tolist()\n",
    "print(login_sample)\n",
    "\n",
    "getactivities(login_sample)"
   ]
  },
  {
   "cell_type": "code",
   "execution_count": 39,
   "id": "a24813d5-54fc-4176-9a5d-3ec099964252",
   "metadata": {},
   "outputs": [
    {
     "name": "stdout",
     "output_type": "stream",
     "text": [
      "['raphaelm', 'TroyAlford', 'daffl', 'bryanyang0528', 'ConnorRigby']\n"
     ]
    }
   ],
   "source": [
    "sample1 = account.tail(5)\n",
    "login_sample1 = sample1.login.values.tolist()\n",
    "print(login_sample1)\n",
    "\n",
    "getactivities(login_sample1)"
   ]
  },
  {
   "cell_type": "markdown",
   "id": "435ee653-b187-4d77-b0b3-e9f2ef260fd1",
   "metadata": {},
   "source": [
    "Utilisation de la fonction et récupération une première fois des activités des comptes"
   ]
  },
  {
   "cell_type": "code",
   "execution_count": 23,
   "id": "5c0bc281-f063-4dca-b188-45e28f1c4047",
   "metadata": {},
   "outputs": [
    {
     "data": {
      "text/plain": [
       "<bound method NDFrame.describe of              id              type  \\\n",
       "0   24912635935       DeleteEvent   \n",
       "1   24912395281       IssuesEvent   \n",
       "2   24912371701         PushEvent   \n",
       "3   24912149353       IssuesEvent   \n",
       "4   24912114985       IssuesEvent   \n",
       "..          ...               ...   \n",
       "95  24901665037         PushEvent   \n",
       "96  24901631863       CreateEvent   \n",
       "97  24901625016       DeleteEvent   \n",
       "98  24901619874  PullRequestEvent   \n",
       "99  24901619072         PushEvent   \n",
       "\n",
       "                                                actor  \\\n",
       "0   {'id': 5978, 'login': 'brotherlogic', 'display...   \n",
       "1   {'id': 5978, 'login': 'brotherlogic', 'display...   \n",
       "2   {'id': 5978, 'login': 'brotherlogic', 'display...   \n",
       "3   {'id': 5978, 'login': 'brotherlogic', 'display...   \n",
       "4   {'id': 5978, 'login': 'brotherlogic', 'display...   \n",
       "..                                                ...   \n",
       "95  {'id': 5978, 'login': 'brotherlogic', 'display...   \n",
       "96  {'id': 5978, 'login': 'brotherlogic', 'display...   \n",
       "97  {'id': 5978, 'login': 'brotherlogic', 'display...   \n",
       "98  {'id': 5978, 'login': 'brotherlogic', 'display...   \n",
       "99  {'id': 5978, 'login': 'brotherlogic', 'display...   \n",
       "\n",
       "                                                 repo  \\\n",
       "0   {'id': 37637381, 'name': 'brotherlogic/recordc...   \n",
       "1   {'id': 290786354, 'name': 'brotherlogic/record...   \n",
       "2   {'id': 290786354, 'name': 'brotherlogic/record...   \n",
       "3   {'id': 117455905, 'name': 'brotherlogic/cdproc...   \n",
       "4   {'id': 117455905, 'name': 'brotherlogic/cdproc...   \n",
       "..                                                ...   \n",
       "95  {'id': 557970631, 'name': 'brotherlogic/librar...   \n",
       "96  {'id': 557970631, 'name': 'brotherlogic/librar...   \n",
       "97  {'id': 557970631, 'name': 'brotherlogic/librar...   \n",
       "98  {'id': 557970631, 'name': 'brotherlogic/librar...   \n",
       "99  {'id': 557970631, 'name': 'brotherlogic/librar...   \n",
       "\n",
       "                                              payload  public  \\\n",
       "0   {'ref': 'clean_tests', 'ref_type': 'branch', '...    True   \n",
       "1   {'action': 'opened', 'issue': {'url': 'https:/...    True   \n",
       "2   {'push_id': 11492913430, 'size': 1, 'distinct_...    True   \n",
       "3   {'action': 'closed', 'issue': {'url': 'https:/...    True   \n",
       "4   {'action': 'opened', 'issue': {'url': 'https:/...    True   \n",
       "..                                                ...     ...   \n",
       "95  {'push_id': 11486133196, 'size': 2, 'distinct_...    True   \n",
       "96  {'ref': 'whaa', 'ref_type': 'branch', 'master_...    True   \n",
       "97  {'ref': 'aha3', 'ref_type': 'branch', 'pusher_...    True   \n",
       "98  {'action': 'opened', 'number': 7, 'pull_reques...    True   \n",
       "99  {'push_id': 11486108976, 'size': 6, 'distinct_...    True   \n",
       "\n",
       "                  created_at  \n",
       "0  2022-10-30 02:34:24+00:00  \n",
       "1  2022-10-30 01:48:25+00:00  \n",
       "2  2022-10-30 01:43:39+00:00  \n",
       "3  2022-10-30 00:59:43+00:00  \n",
       "4  2022-10-30 00:53:08+00:00  \n",
       "..                       ...  \n",
       "95 2022-10-28 21:42:39+00:00  \n",
       "96 2022-10-28 21:39:56+00:00  \n",
       "97 2022-10-28 21:39:23+00:00  \n",
       "98 2022-10-28 21:38:57+00:00  \n",
       "99 2022-10-28 21:38:54+00:00  \n",
       "\n",
       "[100 rows x 7 columns]>"
      ]
     },
     "execution_count": 23,
     "metadata": {},
     "output_type": "execute_result"
    }
   ],
   "source": [
    "df = pd.read_json(\"test.json\")\n",
    "df.describe"
   ]
  },
  {
   "cell_type": "code",
   "execution_count": null,
   "id": "fd5e60ff-76e7-4291-88f8-91de0f7f7b80",
   "metadata": {},
   "outputs": [],
   "source": []
  }
 ],
 "metadata": {
  "kernelspec": {
   "display_name": "Python 3 (ipykernel)",
   "language": "python",
   "name": "python3"
  },
  "language_info": {
   "codemirror_mode": {
    "name": "ipython",
    "version": 3
   },
   "file_extension": ".py",
   "mimetype": "text/x-python",
   "name": "python",
   "nbconvert_exporter": "python",
   "pygments_lexer": "ipython3",
   "version": "3.10.6"
  },
  "vscode": {
   "interpreter": {
    "hash": "916dbcbb3f70747c44a77c7bcd40155683ae19c65e1c03b4aa3499c5328201f1"
   }
  }
 },
 "nbformat": 4,
 "nbformat_minor": 5
}
