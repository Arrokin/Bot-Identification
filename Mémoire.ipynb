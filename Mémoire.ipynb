{
 "cells": [
  {
   "cell_type": "code",
   "execution_count": 2,
   "id": "771094f6-aea3-412d-a396-9318836a96e1",
   "metadata": {},
   "outputs": [
    {
     "data": {
      "text/plain": [
       "<Response [200]>"
      ]
     },
     "execution_count": 2,
     "metadata": {},
     "output_type": "execute_result"
    }
   ],
   "source": [
    "import pandas as pd\n",
    "import numpy as np\n",
    "import requests \n",
    "import json\n",
    "requests.get('https://api.github.com')\n"
   ]
  },
  {
   "cell_type": "markdown",
   "id": "888076c8-5430-4efe-a93a-42a48d755dd4",
   "metadata": {},
   "source": [
    "Importation des librairies et test de la libraire requests"
   ]
  },
  {
   "cell_type": "code",
   "execution_count": 22,
   "id": "e392c409-0b1f-4c52-9250-55c1f77e0d2e",
   "metadata": {},
   "outputs": [
    {
     "data": {
      "text/plain": [
       "<bound method NDFrame.describe of               login type_GT\n",
       "0      brotherlogic     bot\n",
       "1         coveralls     bot\n",
       "2          renovate     bot\n",
       "3          leocwlam     bot\n",
       "4         fabric8cd     bot\n",
       "...             ...     ...\n",
       "1487       raphaelm   human\n",
       "1488     TroyAlford   human\n",
       "1489          daffl   human\n",
       "1490  bryanyang0528   human\n",
       "1491    ConnorRigby   human\n",
       "\n",
       "[1492 rows x 2 columns]>"
      ]
     },
     "execution_count": 22,
     "metadata": {},
     "output_type": "execute_result"
    }
   ],
   "source": [
    "account = pd.read_csv(\"account_groundTruth[92].csv\")\n",
    "account = account.iloc[:,[1,2]] #used because otherwise the account number are there twice \n",
    "# 0              0                       brotherlogic     bot        \n",
    "#instead of\n",
    "#0                       brotherlogic     bot\n",
    "#print(account.to_string())\n",
    "account.describe"
   ]
  },
  {
   "cell_type": "markdown",
   "id": "b2668635-e2d1-4c0f-81b5-dba7af55b584",
   "metadata": {},
   "source": [
    "Utilisation de panda pour récupérer la base de données contenant les bots et compte humains."
   ]
  },
  {
   "cell_type": "code",
   "execution_count": 23,
   "id": "788337ac-4589-4370-a299-14cee30d5adb",
   "metadata": {},
   "outputs": [
    {
     "data": {
      "text/plain": [
       "'bot'"
      ]
     },
     "execution_count": 23,
     "metadata": {},
     "output_type": "execute_result"
    }
   ],
   "source": [
    "values = account.values\n",
    "checker = dict(values)\n",
    "checker[\"brotherlogic\"]"
   ]
  },
  {
   "cell_type": "markdown",
   "id": "18bdba34-0f2a-4ce2-9efa-ce4f631e8841",
   "metadata": {},
   "source": [
    "Création d'un dictionnaire pour que lorsque la fonction de recherche pour les bots sera établie, si celle ci a bien détecté un bot ou non."
   ]
  },
  {
   "cell_type": "code",
   "execution_count": 17,
   "id": "da171dfb-fa3f-420d-8efe-b047079994f2",
   "metadata": {},
   "outputs": [],
   "source": [
    "\"\"\"\n",
    "def check(login,boolBot):\n",
    "    if (boolBot):\n",
    "        return (checker[login] == \"bot\")\n",
    "    else:\n",
    "        return (checker[login] == \"human\")\n",
    "    \n",
    "print(check(\"brotherlogic\",True))\n",
    "print(check(\"coveralls\",False))\n",
    "print(check(\"ConnorRigby\",False))\n",
    "print(check(\"ConnorRigby\",True))\n",
    "\"\"\"\n",
    "def checkbot(login):\n",
    "    return (checker[login] == \"bot\")\n",
    "\n",
    "def checkhuman(login):\n",
    "    return (checker[login] == \"human\")\n",
    "\n"
   ]
  },
  {
   "cell_type": "markdown",
   "id": "644a3345-a3ff-48b9-bc5d-c3d3cdfb03b9",
   "metadata": {},
   "source": [
    "Fonctions servant juste à vérifier correctement dans le dictionnaire"
   ]
  },
  {
   "cell_type": "code",
   "execution_count": 24,
   "id": "89fe1a32-7e5c-4404-973b-94074706b616",
   "metadata": {},
   "outputs": [
    {
     "name": "stdout",
     "output_type": "stream",
     "text": [
      "                               login type_GT\n",
      "0                       brotherlogic     bot\n",
      "1                          coveralls     bot\n",
      "2                           renovate     bot\n",
      "3                           leocwlam     bot\n",
      "4                          fabric8cd     bot\n",
      "5                       codecov[bot]     bot\n",
      "6                         codecov-io     bot\n",
      "7                     ant-design-bot     bot\n",
      "8                facebook-github-bot     bot\n",
      "9                           snyk-bot     bot\n",
      "10             jnpr-community-netdev     bot\n",
      "11           dependabot-preview[bot]     bot\n",
      "12                           ezrobot     bot\n",
      "13                thelinuxfoundation     bot\n",
      "14                      Hibernate-CI     bot\n",
      "15                         cf-gitbot     bot\n",
      "16                        stale[bot]     bot\n",
      "17              scrutinizer-notifier     bot\n",
      "18                         googlebot     bot\n",
      "19                              bors     bot\n",
      "20                      k8s-ci-robot     bot\n",
      "21                        tessel-bot     bot\n",
      "22  resin-io-modules-versionbot[bot]     bot\n",
      "23                        cfdreddbot     bot\n",
      "24                  greenkeeper[bot]     bot\n",
      "25                     KeithGillette   human\n",
      "26                          ceehaupt   human\n",
      "27                             axten   human\n",
      "28                           nytamin   human\n",
      "29                        daveaglick   human\n",
      "30                          pathawks   human\n",
      "31                         portellaa   human\n",
      "32                           UsulPro   human\n",
      "33                              yuce   human\n",
      "34                             p0nce   human\n",
      "35                    DimitarTodorov   human\n",
      "36                      ProfHoekstra   human\n",
      "37                      nathanschile   human\n",
      "38                             zqfan   human\n",
      "39                               rdp   human\n",
      "40                      chunyenHuang   human\n",
      "41                          ndrwrbgs   human\n",
      "42                           jonbern   human\n",
      "43                      absolute8511   human\n",
      "44                              rixx   human\n",
      "45                          raphaelm   human\n",
      "46                        TroyAlford   human\n",
      "47                             daffl   human\n",
      "48                     bryanyang0528   human\n",
      "49                       ConnorRigby   human\n",
      "                               login type_GT\n",
      "0                       brotherlogic     bot\n",
      "1                          coveralls     bot\n",
      "2                           renovate     bot\n",
      "3                           leocwlam     bot\n",
      "4                          fabric8cd     bot\n",
      "5                       codecov[bot]     bot\n",
      "6                         codecov-io     bot\n",
      "7                     ant-design-bot     bot\n",
      "8                facebook-github-bot     bot\n",
      "9                           snyk-bot     bot\n",
      "10             jnpr-community-netdev     bot\n",
      "11           dependabot-preview[bot]     bot\n",
      "12                           ezrobot     bot\n",
      "13                thelinuxfoundation     bot\n",
      "14                      Hibernate-CI     bot\n",
      "15                         cf-gitbot     bot\n",
      "16                        stale[bot]     bot\n",
      "17              scrutinizer-notifier     bot\n",
      "18                         googlebot     bot\n",
      "19                              bors     bot\n",
      "20                      k8s-ci-robot     bot\n",
      "21                        tessel-bot     bot\n",
      "22  resin-io-modules-versionbot[bot]     bot\n",
      "23                        cfdreddbot     bot\n",
      "24                  greenkeeper[bot]     bot\n",
      "               login type_GT\n",
      "1467   KeithGillette   human\n",
      "1468        ceehaupt   human\n",
      "1469           axten   human\n",
      "1470         nytamin   human\n",
      "1471      daveaglick   human\n",
      "1472        pathawks   human\n",
      "1473       portellaa   human\n",
      "1474         UsulPro   human\n",
      "1475            yuce   human\n",
      "1476           p0nce   human\n",
      "1477  DimitarTodorov   human\n",
      "1478    ProfHoekstra   human\n",
      "1479    nathanschile   human\n",
      "1480           zqfan   human\n",
      "1481             rdp   human\n",
      "1482    chunyenHuang   human\n",
      "1483        ndrwrbgs   human\n",
      "1484         jonbern   human\n",
      "1485    absolute8511   human\n",
      "1486            rixx   human\n",
      "1487        raphaelm   human\n",
      "1488      TroyAlford   human\n",
      "1489           daffl   human\n",
      "1490   bryanyang0528   human\n",
      "1491     ConnorRigby   human\n"
     ]
    }
   ],
   "source": [
    "b_set = account.head(25) #bot set of size 25\n",
    "h_set = account.tail(25) #human set of size 25\n",
    "m_set = pd.concat([b_set,h_set])                 #mixed set of size 50\n",
    "m_set = m_set.reset_index(drop = True)           #maybe not needed but \"cleans\" the dataframe\n",
    "                                                 # so it goes from 1 to 50 instead of 1 to 25 then 1467 to 1491\n",
    "print(m_set.to_string())\n",
    "print(b_set.to_string())\n",
    "print(h_set.to_string())"
   ]
  },
  {
   "cell_type": "markdown",
   "id": "eaf43f31-f36d-4a5f-86a6-6c6f6a08b85d",
   "metadata": {},
   "source": [
    "Création d'une dataframe plus petite pour commencer"
   ]
  },
  {
   "cell_type": "code",
   "execution_count": 33,
   "id": "a7e6abe6-7d0e-4139-8e75-9e0a4b50a715",
   "metadata": {},
   "outputs": [],
   "source": [
    "#r = requests.get('https://api.github.com/events')\n",
    "for i in range( 1,4):\n",
    "    payload = {'per_page' : '100' ,'page' : '{}'.format (i)}\n",
    "    r = requests.get(\"https://api.github.com/users/brotherlogic/events\",params=payload)\n",
    "    activity = r.json()\n",
    "    with open (\"./test/test{}.json\".format(i),\"w\") as outfile:\n",
    "        json.dump(activity,outfile, indent = 4)\n",
    "        \n",
    "outfile.close()\n",
    "\n",
    "\n"
   ]
  },
  {
   "cell_type": "code",
   "execution_count": 44,
   "id": "a416e2d4",
   "metadata": {},
   "outputs": [],
   "source": [
    "payload = {'per_page' : '100' ,'page' : '1'}\n",
    "r = requests.get(\"https://api.github.com/users/brotherlogic/events\",params=payload)\n",
    "activity = r.json()\n",
    "with open (\"./new.json\",\"w\") as outfile:\n",
    "    json.dump(activity,outfile, indent = 4)\n",
    "outfile.close()"
   ]
  },
  {
   "cell_type": "code",
   "execution_count": 58,
   "id": "55c22240",
   "metadata": {},
   "outputs": [
    {
     "name": "stdout",
     "output_type": "stream",
     "text": [
      "True\n"
     ]
    }
   ],
   "source": [
    "#test1 = json.load(\"./events.json\")\n",
    "#test2 = json.load(\"./activities/TroyAlford2.json\")\n",
    "test1 = json.load(open(\"./activities/TroyAlford1.json\"))\n",
    "test2 = json.load(open(\"./activities/TroyAlford2.json\"))\n",
    "print(test1 == test2)\n"
   ]
  },
  {
   "cell_type": "code",
   "execution_count": 64,
   "id": "920322b1",
   "metadata": {},
   "outputs": [
    {
     "name": "stdout",
     "output_type": "stream",
     "text": [
      "r1 r2 False\n",
      "r2 r3 True\n",
      "r1 r3 False\n"
     ]
    }
   ],
   "source": [
    "payload1 = {'per_page' : '100' ,'page' : '1'}\n",
    "payload2 = {'per_page' : '100' ,'page' : '2'}\n",
    "payload3 = {'per_page' : '100' ,'page' : '3'}\n",
    "\n",
    "r1 = requests.get(\"https://api.github.com/users/TroyAlford/events\",params=payload1)\n",
    "r2 = requests.get(\"https://api.github.com/users/TroyAlford/events\",params=payload2)\n",
    "r3 = requests.get(\"https://api.github.com/users/TroyAlford/events\",params=payload3)\n",
    "\n",
    "\n",
    "activity1 = r1.json()\n",
    "activity2 = r2.json()\n",
    "activity3 = r3.json()\n",
    "with open(\"./test1.json\",\"w\") as outfile:\n",
    "                json.dump(activity1,outfile,indent = 4)\n",
    "with open(\"./test2.json\",\"w\") as outfile:\n",
    "                json.dump(activity2,outfile,indent = 4)\n",
    "print(\"r1 r2\", \"{}\".format(activity1==activity2))\n",
    "print(\"r2 r3\", \"{}\".format(activity2==activity3))\n",
    "print(\"r1 r3\", \"{}\".format(activity1==activity3))\n"
   ]
  },
  {
   "cell_type": "raw",
   "id": "f8f4e6bd-9887-44ce-987b-7b73a44bd5da",
   "metadata": {},
   "source": [
    "with open (\"test.json\",\"w\") as outfile:\n",
    "    outfile.write(json.dumps(activity,indent = 4))\n",
    "#activity = r.text\n",
    "\n",
    "with open (\"test.json\",\"w\") as outfile:\n",
    "    json.dump(activity,outfile,indent = 4)\n",
    "\n",
    "with open (\"events.json\",\"r\") as handle:\n",
    "    parsed = json.load(handle)\n",
    "    print(parsed)\n",
    "#print(activity)\n",
    "\n",
    "\n",
    "different essais pour avoir un \"bon\" drop d'un fichier .json\n",
    "Inutile finalement on arrive à lire en transformant en dataframe\n"
   ]
  },
  {
   "cell_type": "code",
   "execution_count": 67,
   "id": "c97e79c0-1b8d-408b-80ae-947e7557e0bc",
   "metadata": {},
   "outputs": [],
   "source": [
    "def getactivities(list_login):\n",
    "    for login in list_login:\n",
    "        for i in range (1,4):\n",
    "            payload = {'per_page' : '100' ,'page' : '{}'.format(i)}\n",
    "            r = requests.get(\"https://api.github.com/users/{name}/events\".format(name=login),params=payload)\n",
    "            activity = r.json()\n",
    "            with open(\"./activities/{name}{number}.json\".format(name = login,number = i),\"w\") as outfile:\n",
    "                json.dump(activity,outfile,indent = 4)\n",
    "            outfile.close()"
   ]
  },
  {
   "cell_type": "markdown",
   "id": "c2805dd6-d54f-46cf-9bfe-bd17462b7845",
   "metadata": {},
   "source": [
    "Création d'une fonction pour récupérer les activités des comptes.\n",
    "Vérifier pourquoi certains fichiers json sont juste sous la forme root: \"[]\"\n",
    "Vérifier aussi pourquoi les fichiers ne sont plus \"reconnu\" comme json (regarder fichier test.json et event.json)\n",
    "Problème réglés (changer le r.text en r.json() )\n",
    "Ne marche plus après être passé sur vscode"
   ]
  },
  {
   "cell_type": "markdown",
   "id": "7e497398",
   "metadata": {},
   "source": []
  },
  {
   "cell_type": "code",
   "execution_count": 69,
   "id": "09cfcf93-d25e-46b1-b475-8cd3281b623e",
   "metadata": {},
   "outputs": [
    {
     "name": "stdout",
     "output_type": "stream",
     "text": [
      "['brotherlogic', 'coveralls', 'renovate', 'leocwlam', 'fabric8cd']\n"
     ]
    }
   ],
   "source": [
    "sample = account.head(5)\n",
    "login_sample = sample.login.values.tolist()\n",
    "print(login_sample)\n",
    "\n",
    "getactivities(login_sample)"
   ]
  },
  {
   "cell_type": "code",
   "execution_count": 70,
   "id": "a24813d5-54fc-4176-9a5d-3ec099964252",
   "metadata": {},
   "outputs": [
    {
     "name": "stdout",
     "output_type": "stream",
     "text": [
      "['raphaelm', 'TroyAlford', 'daffl', 'bryanyang0528', 'ConnorRigby']\n"
     ]
    }
   ],
   "source": [
    "sample1 = account.tail(5)\n",
    "login_sample1 = sample1.login.values.tolist()\n",
    "print(login_sample1)\n",
    "\n",
    "getactivities(login_sample1)"
   ]
  },
  {
   "cell_type": "markdown",
   "id": "435ee653-b187-4d77-b0b3-e9f2ef260fd1",
   "metadata": {},
   "source": [
    "Utilisation de la fonction et récupération une première fois des activités des comptes"
   ]
  },
  {
   "cell_type": "code",
   "execution_count": 10,
   "id": "5c0bc281-f063-4dca-b188-45e28f1c4047",
   "metadata": {},
   "outputs": [
    {
     "name": "stdout",
     "output_type": "stream",
     "text": [
      "Index(['id', 'type', 'actor', 'repo', 'payload', 'public', 'created_at',\n",
      "       'org'],\n",
      "      dtype='object')\n"
     ]
    },
    {
     "data": {
      "text/plain": [
       "0    PushEvent\n",
       "1    PushEvent\n",
       "2    PushEvent\n",
       "Name: type, dtype: object"
      ]
     },
     "execution_count": 10,
     "metadata": {},
     "output_type": "execute_result"
    }
   ],
   "source": [
    "df = pd.read_json(\"./activities/TroyAlford1.json\")\n",
    "df.describe\n",
    "lst = df.keys()\n",
    "print(lst)\n",
    "df.get('type')"
   ]
  },
  {
   "cell_type": "code",
   "execution_count": 38,
   "id": "75643d70",
   "metadata": {},
   "outputs": [
    {
     "data": {
      "text/html": [
       "<div>\n",
       "<style scoped>\n",
       "    .dataframe tbody tr th:only-of-type {\n",
       "        vertical-align: middle;\n",
       "    }\n",
       "\n",
       "    .dataframe tbody tr th {\n",
       "        vertical-align: top;\n",
       "    }\n",
       "\n",
       "    .dataframe thead th {\n",
       "        text-align: right;\n",
       "    }\n",
       "</style>\n",
       "<table border=\"1\" class=\"dataframe\">\n",
       "  <thead>\n",
       "    <tr style=\"text-align: right;\">\n",
       "      <th></th>\n",
       "      <th>id</th>\n",
       "      <th>type</th>\n",
       "      <th>actor</th>\n",
       "      <th>repo</th>\n",
       "      <th>payload</th>\n",
       "      <th>public</th>\n",
       "      <th>created_at</th>\n",
       "      <th>org</th>\n",
       "    </tr>\n",
       "  </thead>\n",
       "  <tbody>\n",
       "    <tr>\n",
       "      <th>0</th>\n",
       "      <td>24905564307</td>\n",
       "      <td>PushEvent</td>\n",
       "      <td>{'id': 12262780, 'login': 'TroyAlford', 'displ...</td>\n",
       "      <td>{'id': 393739387, 'name': 'NerdrageTools/7d2d-...</td>\n",
       "      <td>{'push_id': 11488521095, 'size': 1, 'distinct_...</td>\n",
       "      <td>True</td>\n",
       "      <td>2022-10-29 07:32:21+00:00</td>\n",
       "      <td>{'id': 33378902, 'login': 'NerdrageTools', 'gr...</td>\n",
       "    </tr>\n",
       "    <tr>\n",
       "      <th>1</th>\n",
       "      <td>24782205542</td>\n",
       "      <td>PushEvent</td>\n",
       "      <td>{'id': 12262780, 'login': 'TroyAlford', 'displ...</td>\n",
       "      <td>{'id': 393739387, 'name': 'NerdrageTools/7d2d-...</td>\n",
       "      <td>{'push_id': 11426088539, 'size': 8, 'distinct_...</td>\n",
       "      <td>True</td>\n",
       "      <td>2022-10-24 06:37:55+00:00</td>\n",
       "      <td>{'id': 33378902, 'login': 'NerdrageTools', 'gr...</td>\n",
       "    </tr>\n",
       "    <tr>\n",
       "      <th>2</th>\n",
       "      <td>24491681996</td>\n",
       "      <td>PushEvent</td>\n",
       "      <td>{'id': 12262780, 'login': 'TroyAlford', 'displ...</td>\n",
       "      <td>{'id': 393739387, 'name': 'NerdrageTools/7d2d-...</td>\n",
       "      <td>{'push_id': 11275036462, 'size': 1, 'distinct_...</td>\n",
       "      <td>True</td>\n",
       "      <td>2022-10-10 03:10:37+00:00</td>\n",
       "      <td>{'id': 33378902, 'login': 'NerdrageTools', 'gr...</td>\n",
       "    </tr>\n",
       "  </tbody>\n",
       "</table>\n",
       "</div>"
      ],
      "text/plain": [
       "            id       type                                              actor  \\\n",
       "0  24905564307  PushEvent  {'id': 12262780, 'login': 'TroyAlford', 'displ...   \n",
       "1  24782205542  PushEvent  {'id': 12262780, 'login': 'TroyAlford', 'displ...   \n",
       "2  24491681996  PushEvent  {'id': 12262780, 'login': 'TroyAlford', 'displ...   \n",
       "\n",
       "                                                repo  \\\n",
       "0  {'id': 393739387, 'name': 'NerdrageTools/7d2d-...   \n",
       "1  {'id': 393739387, 'name': 'NerdrageTools/7d2d-...   \n",
       "2  {'id': 393739387, 'name': 'NerdrageTools/7d2d-...   \n",
       "\n",
       "                                             payload  public  \\\n",
       "0  {'push_id': 11488521095, 'size': 1, 'distinct_...    True   \n",
       "1  {'push_id': 11426088539, 'size': 8, 'distinct_...    True   \n",
       "2  {'push_id': 11275036462, 'size': 1, 'distinct_...    True   \n",
       "\n",
       "                 created_at                                                org  \n",
       "0 2022-10-29 07:32:21+00:00  {'id': 33378902, 'login': 'NerdrageTools', 'gr...  \n",
       "1 2022-10-24 06:37:55+00:00  {'id': 33378902, 'login': 'NerdrageTools', 'gr...  \n",
       "2 2022-10-10 03:10:37+00:00  {'id': 33378902, 'login': 'NerdrageTools', 'gr...  "
      ]
     },
     "execution_count": 38,
     "metadata": {},
     "output_type": "execute_result"
    }
   ],
   "source": [
    "combined = []\n",
    "for i in range (1,4):\n",
    "    tmp = pd.read_json(\"./activities/TroyAlford{index}.json\".format(index = i))\n",
    "    combined.append(tmp)\n",
    "# res = pd.concat(combined)\n",
    "# res = res.reset_index(drop = True)\n",
    "res= (pd.concat(combined)).reset_index(drop = True)\n",
    "res.head()\n",
    "# display(res.iloc[0])\n",
    "# display(res.iloc[1])\n"
   ]
  },
  {
   "cell_type": "markdown",
   "id": "283b05a3",
   "metadata": {},
   "source": [
    "Global idea on how to get a good dataframe based on the json we got"
   ]
  },
  {
   "cell_type": "code",
   "execution_count": 37,
   "id": "71346564",
   "metadata": {},
   "outputs": [
    {
     "data": {
      "text/html": [
       "<div>\n",
       "<style scoped>\n",
       "    .dataframe tbody tr th:only-of-type {\n",
       "        vertical-align: middle;\n",
       "    }\n",
       "\n",
       "    .dataframe tbody tr th {\n",
       "        vertical-align: top;\n",
       "    }\n",
       "\n",
       "    .dataframe thead th {\n",
       "        text-align: right;\n",
       "    }\n",
       "</style>\n",
       "<table border=\"1\" class=\"dataframe\">\n",
       "  <thead>\n",
       "    <tr style=\"text-align: right;\">\n",
       "      <th></th>\n",
       "      <th>id</th>\n",
       "      <th>type</th>\n",
       "      <th>actor</th>\n",
       "      <th>repo</th>\n",
       "      <th>payload</th>\n",
       "      <th>public</th>\n",
       "      <th>created_at</th>\n",
       "      <th>org</th>\n",
       "    </tr>\n",
       "  </thead>\n",
       "  <tbody>\n",
       "    <tr>\n",
       "      <th>0</th>\n",
       "      <td>24917066563</td>\n",
       "      <td>IssueCommentEvent</td>\n",
       "      <td>{'id': 2354108, 'login': 'coveralls', 'display...</td>\n",
       "      <td>{'id': 557388363, 'name': 'PW-mates/cinemo-bac...</td>\n",
       "      <td>{'action': 'created', 'issue': {'url': 'https:...</td>\n",
       "      <td>True</td>\n",
       "      <td>2022-10-30 14:27:32+00:00</td>\n",
       "      <td>{'id': 116636290, 'login': 'PW-mates', 'gravat...</td>\n",
       "    </tr>\n",
       "    <tr>\n",
       "      <th>1</th>\n",
       "      <td>24917066422</td>\n",
       "      <td>IssueCommentEvent</td>\n",
       "      <td>{'id': 2354108, 'login': 'coveralls', 'display...</td>\n",
       "      <td>{'id': 7514061, 'name': 'MushroomObserver/mush...</td>\n",
       "      <td>{'action': 'created', 'issue': {'url': 'https:...</td>\n",
       "      <td>True</td>\n",
       "      <td>2022-10-30 14:27:31+00:00</td>\n",
       "      <td>{'id': 3212163, 'login': 'MushroomObserver', '...</td>\n",
       "    </tr>\n",
       "    <tr>\n",
       "      <th>2</th>\n",
       "      <td>24917018562</td>\n",
       "      <td>IssueCommentEvent</td>\n",
       "      <td>{'id': 2354108, 'login': 'coveralls', 'display...</td>\n",
       "      <td>{'id': 91629816, 'name': 'freqtrade/freqtrade'...</td>\n",
       "      <td>{'action': 'created', 'issue': {'url': 'https:...</td>\n",
       "      <td>True</td>\n",
       "      <td>2022-10-30 14:21:14+00:00</td>\n",
       "      <td>{'id': 37536846, 'login': 'freqtrade', 'gravat...</td>\n",
       "    </tr>\n",
       "    <tr>\n",
       "      <th>3</th>\n",
       "      <td>24917004924</td>\n",
       "      <td>IssueCommentEvent</td>\n",
       "      <td>{'id': 2354108, 'login': 'coveralls', 'display...</td>\n",
       "      <td>{'id': 489777536, 'name': 'aas-core-works/aas-...</td>\n",
       "      <td>{'action': 'created', 'issue': {'url': 'https:...</td>\n",
       "      <td>True</td>\n",
       "      <td>2022-10-30 14:19:29+00:00</td>\n",
       "      <td>{'id': 81610708, 'login': 'aas-core-works', 'g...</td>\n",
       "    </tr>\n",
       "    <tr>\n",
       "      <th>4</th>\n",
       "      <td>24916976229</td>\n",
       "      <td>IssueCommentEvent</td>\n",
       "      <td>{'id': 2354108, 'login': 'coveralls', 'display...</td>\n",
       "      <td>{'id': 3101686, 'name': 'thumbor/remotecv', 'u...</td>\n",
       "      <td>{'action': 'created', 'issue': {'url': 'https:...</td>\n",
       "      <td>True</td>\n",
       "      <td>2022-10-30 14:15:43+00:00</td>\n",
       "      <td>{'id': 6918711, 'login': 'thumbor', 'gravatar_...</td>\n",
       "    </tr>\n",
       "    <tr>\n",
       "      <th>...</th>\n",
       "      <td>...</td>\n",
       "      <td>...</td>\n",
       "      <td>...</td>\n",
       "      <td>...</td>\n",
       "      <td>...</td>\n",
       "      <td>...</td>\n",
       "      <td>...</td>\n",
       "      <td>...</td>\n",
       "    </tr>\n",
       "    <tr>\n",
       "      <th>295</th>\n",
       "      <td>24901969823</td>\n",
       "      <td>IssueCommentEvent</td>\n",
       "      <td>{'id': 2354108, 'login': 'coveralls', 'display...</td>\n",
       "      <td>{'id': 109200851, 'name': 'microsoft/azuredata...</td>\n",
       "      <td>{'action': 'created', 'issue': {'url': 'https:...</td>\n",
       "      <td>True</td>\n",
       "      <td>2022-10-28 22:07:48+00:00</td>\n",
       "      <td>{'id': 6154722, 'login': 'microsoft', 'gravata...</td>\n",
       "    </tr>\n",
       "    <tr>\n",
       "      <th>296</th>\n",
       "      <td>24901952702</td>\n",
       "      <td>IssueCommentEvent</td>\n",
       "      <td>{'id': 2354108, 'login': 'coveralls', 'display...</td>\n",
       "      <td>{'id': 436729130, 'name': 'openconfig/featurep...</td>\n",
       "      <td>{'action': 'created', 'issue': {'url': 'https:...</td>\n",
       "      <td>True</td>\n",
       "      <td>2022-10-28 22:06:26+00:00</td>\n",
       "      <td>{'id': 8780263, 'login': 'openconfig', 'gravat...</td>\n",
       "    </tr>\n",
       "    <tr>\n",
       "      <th>297</th>\n",
       "      <td>24901798205</td>\n",
       "      <td>IssueCommentEvent</td>\n",
       "      <td>{'id': 2354108, 'login': 'coveralls', 'display...</td>\n",
       "      <td>{'id': 162741822, 'name': 'decentraland/builde...</td>\n",
       "      <td>{'action': 'created', 'issue': {'url': 'https:...</td>\n",
       "      <td>True</td>\n",
       "      <td>2022-10-28 21:53:44+00:00</td>\n",
       "      <td>{'id': 12685795, 'login': 'decentraland', 'gra...</td>\n",
       "    </tr>\n",
       "    <tr>\n",
       "      <th>298</th>\n",
       "      <td>24901788984</td>\n",
       "      <td>IssueCommentEvent</td>\n",
       "      <td>{'id': 2354108, 'login': 'coveralls', 'display...</td>\n",
       "      <td>{'id': 360238600, 'name': 'medplum/medplum', '...</td>\n",
       "      <td>{'action': 'created', 'issue': {'url': 'https:...</td>\n",
       "      <td>True</td>\n",
       "      <td>2022-10-28 21:52:59+00:00</td>\n",
       "      <td>{'id': 75462971, 'login': 'medplum', 'gravatar...</td>\n",
       "    </tr>\n",
       "    <tr>\n",
       "      <th>299</th>\n",
       "      <td>24901761068</td>\n",
       "      <td>IssueCommentEvent</td>\n",
       "      <td>{'id': 2354108, 'login': 'coveralls', 'display...</td>\n",
       "      <td>{'id': 90281284, 'name': 'tarlepp/symfony-flex...</td>\n",
       "      <td>{'action': 'created', 'issue': {'url': 'https:...</td>\n",
       "      <td>True</td>\n",
       "      <td>2022-10-28 21:50:35+00:00</td>\n",
       "      <td>NaN</td>\n",
       "    </tr>\n",
       "  </tbody>\n",
       "</table>\n",
       "<p>300 rows × 8 columns</p>\n",
       "</div>"
      ],
      "text/plain": [
       "              id               type  \\\n",
       "0    24917066563  IssueCommentEvent   \n",
       "1    24917066422  IssueCommentEvent   \n",
       "2    24917018562  IssueCommentEvent   \n",
       "3    24917004924  IssueCommentEvent   \n",
       "4    24916976229  IssueCommentEvent   \n",
       "..           ...                ...   \n",
       "295  24901969823  IssueCommentEvent   \n",
       "296  24901952702  IssueCommentEvent   \n",
       "297  24901798205  IssueCommentEvent   \n",
       "298  24901788984  IssueCommentEvent   \n",
       "299  24901761068  IssueCommentEvent   \n",
       "\n",
       "                                                 actor  \\\n",
       "0    {'id': 2354108, 'login': 'coveralls', 'display...   \n",
       "1    {'id': 2354108, 'login': 'coveralls', 'display...   \n",
       "2    {'id': 2354108, 'login': 'coveralls', 'display...   \n",
       "3    {'id': 2354108, 'login': 'coveralls', 'display...   \n",
       "4    {'id': 2354108, 'login': 'coveralls', 'display...   \n",
       "..                                                 ...   \n",
       "295  {'id': 2354108, 'login': 'coveralls', 'display...   \n",
       "296  {'id': 2354108, 'login': 'coveralls', 'display...   \n",
       "297  {'id': 2354108, 'login': 'coveralls', 'display...   \n",
       "298  {'id': 2354108, 'login': 'coveralls', 'display...   \n",
       "299  {'id': 2354108, 'login': 'coveralls', 'display...   \n",
       "\n",
       "                                                  repo  \\\n",
       "0    {'id': 557388363, 'name': 'PW-mates/cinemo-bac...   \n",
       "1    {'id': 7514061, 'name': 'MushroomObserver/mush...   \n",
       "2    {'id': 91629816, 'name': 'freqtrade/freqtrade'...   \n",
       "3    {'id': 489777536, 'name': 'aas-core-works/aas-...   \n",
       "4    {'id': 3101686, 'name': 'thumbor/remotecv', 'u...   \n",
       "..                                                 ...   \n",
       "295  {'id': 109200851, 'name': 'microsoft/azuredata...   \n",
       "296  {'id': 436729130, 'name': 'openconfig/featurep...   \n",
       "297  {'id': 162741822, 'name': 'decentraland/builde...   \n",
       "298  {'id': 360238600, 'name': 'medplum/medplum', '...   \n",
       "299  {'id': 90281284, 'name': 'tarlepp/symfony-flex...   \n",
       "\n",
       "                                               payload  public  \\\n",
       "0    {'action': 'created', 'issue': {'url': 'https:...    True   \n",
       "1    {'action': 'created', 'issue': {'url': 'https:...    True   \n",
       "2    {'action': 'created', 'issue': {'url': 'https:...    True   \n",
       "3    {'action': 'created', 'issue': {'url': 'https:...    True   \n",
       "4    {'action': 'created', 'issue': {'url': 'https:...    True   \n",
       "..                                                 ...     ...   \n",
       "295  {'action': 'created', 'issue': {'url': 'https:...    True   \n",
       "296  {'action': 'created', 'issue': {'url': 'https:...    True   \n",
       "297  {'action': 'created', 'issue': {'url': 'https:...    True   \n",
       "298  {'action': 'created', 'issue': {'url': 'https:...    True   \n",
       "299  {'action': 'created', 'issue': {'url': 'https:...    True   \n",
       "\n",
       "                   created_at  \\\n",
       "0   2022-10-30 14:27:32+00:00   \n",
       "1   2022-10-30 14:27:31+00:00   \n",
       "2   2022-10-30 14:21:14+00:00   \n",
       "3   2022-10-30 14:19:29+00:00   \n",
       "4   2022-10-30 14:15:43+00:00   \n",
       "..                        ...   \n",
       "295 2022-10-28 22:07:48+00:00   \n",
       "296 2022-10-28 22:06:26+00:00   \n",
       "297 2022-10-28 21:53:44+00:00   \n",
       "298 2022-10-28 21:52:59+00:00   \n",
       "299 2022-10-28 21:50:35+00:00   \n",
       "\n",
       "                                                   org  \n",
       "0    {'id': 116636290, 'login': 'PW-mates', 'gravat...  \n",
       "1    {'id': 3212163, 'login': 'MushroomObserver', '...  \n",
       "2    {'id': 37536846, 'login': 'freqtrade', 'gravat...  \n",
       "3    {'id': 81610708, 'login': 'aas-core-works', 'g...  \n",
       "4    {'id': 6918711, 'login': 'thumbor', 'gravatar_...  \n",
       "..                                                 ...  \n",
       "295  {'id': 6154722, 'login': 'microsoft', 'gravata...  \n",
       "296  {'id': 8780263, 'login': 'openconfig', 'gravat...  \n",
       "297  {'id': 12685795, 'login': 'decentraland', 'gra...  \n",
       "298  {'id': 75462971, 'login': 'medplum', 'gravatar...  \n",
       "299                                                NaN  \n",
       "\n",
       "[300 rows x 8 columns]"
      ]
     },
     "execution_count": 37,
     "metadata": {},
     "output_type": "execute_result"
    }
   ],
   "source": [
    "def getdataframe(login):\n",
    "    combined=[]\n",
    "    for i in range (1,4):\n",
    "        tmp = pd.read_json(\"./activities/{}{}.json\".format(login,i))\n",
    "        combined.append(tmp)\n",
    "    res= (pd.concat(combined)).reset_index(drop = True)\n",
    "    return res\n",
    "\n",
    "getdataframe(\"coveralls\")"
   ]
  },
  {
   "cell_type": "code",
   "execution_count": null,
   "id": "fd5e60ff-76e7-4291-88f8-91de0f7f7b80",
   "metadata": {},
   "outputs": [
    {
     "name": "stdout",
     "output_type": "stream",
     "text": [
      "{'IssueCommentEvent': 100}\n"
     ]
    }
   ],
   "source": [
    "df = pd.read_json(\"./activities/coveralls3.json\")\n",
    "\n",
    "df.describe\n",
    "lst = df.keys()\n",
    "#print(lst)\n",
    "#print(df['type'].values)\n",
    "dict = {}\n",
    "for val in df['type'].values:\n",
    "    if val not in dict:\n",
    "        dict[val]= 1\n",
    "    else:\n",
    "        dict[val] = dict[val] +1\n",
    "print(dict)\n",
    "#print(lst)\n",
    "# lst1 = df['id'].values\n",
    "# print(lst1)\n",
    "# df.get('type')\n",
    "# df.get('repo')\n"
   ]
  },
  {
   "cell_type": "markdown",
   "id": "ca55deaa",
   "metadata": {},
   "source": [
    "Global idea on how to get how many time the same action is done by a certain account"
   ]
  },
  {
   "cell_type": "code",
   "execution_count": null,
   "id": "e89cb89b",
   "metadata": {},
   "outputs": [],
   "source": [
    "def count_type(login):\n",
    "    df = getdataframe(login)\n",
    "    dict = {}\n",
    "    for val in df['type'].values:\n",
    "        if val not in dict:\n",
    "            dict[val]= 1\n",
    "        else:\n",
    "            dict[val] = dict[val] +1\n",
    "    return dict"
   ]
  }
 ],
 "metadata": {
  "kernelspec": {
   "display_name": "Python 3 (ipykernel)",
   "language": "python",
   "name": "python3"
  },
  "language_info": {
   "codemirror_mode": {
    "name": "ipython",
    "version": 3
   },
   "file_extension": ".py",
   "mimetype": "text/x-python",
   "name": "python",
   "nbconvert_exporter": "python",
   "pygments_lexer": "ipython3",
   "version": "3.10.6"
  },
  "vscode": {
   "interpreter": {
    "hash": "916dbcbb3f70747c44a77c7bcd40155683ae19c65e1c03b4aa3499c5328201f1"
   }
  }
 },
 "nbformat": 4,
 "nbformat_minor": 5
}
