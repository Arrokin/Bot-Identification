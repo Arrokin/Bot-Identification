{
 "cells": [
  {
   "cell_type": "code",
   "execution_count": 25,
   "id": "771094f6-aea3-412d-a396-9318836a96e1",
   "metadata": {},
   "outputs": [
    {
     "data": {
      "text/plain": [
       "<Response [200]>"
      ]
     },
     "execution_count": 25,
     "metadata": {},
     "output_type": "execute_result"
    }
   ],
   "source": [
    "import pandas as pd\n",
    "import numpy as np\n",
    "import requests \n",
    "import json\n",
    "import time\n",
    "requests.get('https://api.github.com')\n"
   ]
  },
  {
   "cell_type": "markdown",
   "id": "888076c8-5430-4efe-a93a-42a48d755dd4",
   "metadata": {},
   "source": [
    "Importation des librairies et test de la libraire requests"
   ]
  },
  {
   "cell_type": "code",
   "execution_count": 48,
   "id": "e392c409-0b1f-4c52-9250-55c1f77e0d2e",
   "metadata": {},
   "outputs": [
    {
     "data": {
      "text/plain": [
       "<bound method NDFrame.describe of               login type_GT\n",
       "0      brotherlogic     bot\n",
       "1         coveralls     bot\n",
       "2          renovate     bot\n",
       "3          leocwlam     bot\n",
       "4         fabric8cd     bot\n",
       "...             ...     ...\n",
       "1487       raphaelm   human\n",
       "1488     TroyAlford   human\n",
       "1489          daffl   human\n",
       "1490  bryanyang0528   human\n",
       "1491    ConnorRigby   human\n",
       "\n",
       "[1492 rows x 2 columns]>"
      ]
     },
     "execution_count": 48,
     "metadata": {},
     "output_type": "execute_result"
    }
   ],
   "source": [
    "account = pd.read_csv(\"account_groundTruth[92].csv\")\n",
    "account = account.iloc[:,[1,2]] #used because otherwise the account number are there twice \n",
    "# 0              0                       brotherlogic     bot        \n",
    "#instead of\n",
    "#0                       brotherlogic     bot\n",
    "#print(account.to_string())\n",
    "account.describe\n",
    "#account.get('login').to_list()"
   ]
  },
  {
   "cell_type": "markdown",
   "id": "b2668635-e2d1-4c0f-81b5-dba7af55b584",
   "metadata": {},
   "source": [
    "Utilisation de panda pour récupérer la base de données contenant les bots et compte humains."
   ]
  },
  {
   "cell_type": "code",
   "execution_count": 26,
   "id": "788337ac-4589-4370-a299-14cee30d5adb",
   "metadata": {},
   "outputs": [
    {
     "data": {
      "text/plain": [
       "'bot'"
      ]
     },
     "execution_count": 26,
     "metadata": {},
     "output_type": "execute_result"
    }
   ],
   "source": [
    "values = account.values\n",
    "checker = dict(values)\n",
    "checker[\"brotherlogic\"]"
   ]
  },
  {
   "cell_type": "markdown",
   "id": "18bdba34-0f2a-4ce2-9efa-ce4f631e8841",
   "metadata": {},
   "source": [
    "Création d'un dictionnaire pour que lorsque la fonction de recherche pour les bots sera établie, si celle ci a bien détecté un bot ou non."
   ]
  },
  {
   "cell_type": "code",
   "execution_count": 27,
   "id": "da171dfb-fa3f-420d-8efe-b047079994f2",
   "metadata": {},
   "outputs": [],
   "source": [
    "\"\"\"\n",
    "def check(login,boolBot):\n",
    "    if (boolBot):\n",
    "        return (checker[login] == \"bot\")\n",
    "    else:\n",
    "        return (checker[login] == \"human\")\n",
    "    \n",
    "print(check(\"brotherlogic\",True))\n",
    "print(check(\"coveralls\",False))\n",
    "print(check(\"ConnorRigby\",False))\n",
    "print(check(\"ConnorRigby\",True))\n",
    "\"\"\"\n",
    "def checkbot(login):\n",
    "    return (checker[login] == \"bot\")\n",
    "\n",
    "def checkhuman(login):\n",
    "    return (checker[login] == \"human\")\n",
    "\n"
   ]
  },
  {
   "cell_type": "markdown",
   "id": "644a3345-a3ff-48b9-bc5d-c3d3cdfb03b9",
   "metadata": {},
   "source": [
    "Fonctions servant juste à vérifier correctement dans le dictionnaire"
   ]
  },
  {
   "cell_type": "code",
   "execution_count": 28,
   "id": "89fe1a32-7e5c-4404-973b-94074706b616",
   "metadata": {},
   "outputs": [
    {
     "name": "stdout",
     "output_type": "stream",
     "text": [
      "                               login type_GT\n",
      "0                       brotherlogic     bot\n",
      "1                          coveralls     bot\n",
      "2                           renovate     bot\n",
      "3                           leocwlam     bot\n",
      "4                          fabric8cd     bot\n",
      "5                       codecov[bot]     bot\n",
      "6                         codecov-io     bot\n",
      "7                     ant-design-bot     bot\n",
      "8                facebook-github-bot     bot\n",
      "9                           snyk-bot     bot\n",
      "10             jnpr-community-netdev     bot\n",
      "11           dependabot-preview[bot]     bot\n",
      "12                           ezrobot     bot\n",
      "13                thelinuxfoundation     bot\n",
      "14                      Hibernate-CI     bot\n",
      "15                         cf-gitbot     bot\n",
      "16                        stale[bot]     bot\n",
      "17              scrutinizer-notifier     bot\n",
      "18                         googlebot     bot\n",
      "19                              bors     bot\n",
      "20                      k8s-ci-robot     bot\n",
      "21                        tessel-bot     bot\n",
      "22  resin-io-modules-versionbot[bot]     bot\n",
      "23                        cfdreddbot     bot\n",
      "24                  greenkeeper[bot]     bot\n",
      "25                     KeithGillette   human\n",
      "26                          ceehaupt   human\n",
      "27                             axten   human\n",
      "28                           nytamin   human\n",
      "29                        daveaglick   human\n",
      "30                          pathawks   human\n",
      "31                         portellaa   human\n",
      "32                           UsulPro   human\n",
      "33                              yuce   human\n",
      "34                             p0nce   human\n",
      "35                    DimitarTodorov   human\n",
      "36                      ProfHoekstra   human\n",
      "37                      nathanschile   human\n",
      "38                             zqfan   human\n",
      "39                               rdp   human\n",
      "40                      chunyenHuang   human\n",
      "41                          ndrwrbgs   human\n",
      "42                           jonbern   human\n",
      "43                      absolute8511   human\n",
      "44                              rixx   human\n",
      "45                          raphaelm   human\n",
      "46                        TroyAlford   human\n",
      "47                             daffl   human\n",
      "48                     bryanyang0528   human\n",
      "49                       ConnorRigby   human\n",
      "                               login type_GT\n",
      "0                       brotherlogic     bot\n",
      "1                          coveralls     bot\n",
      "2                           renovate     bot\n",
      "3                           leocwlam     bot\n",
      "4                          fabric8cd     bot\n",
      "5                       codecov[bot]     bot\n",
      "6                         codecov-io     bot\n",
      "7                     ant-design-bot     bot\n",
      "8                facebook-github-bot     bot\n",
      "9                           snyk-bot     bot\n",
      "10             jnpr-community-netdev     bot\n",
      "11           dependabot-preview[bot]     bot\n",
      "12                           ezrobot     bot\n",
      "13                thelinuxfoundation     bot\n",
      "14                      Hibernate-CI     bot\n",
      "15                         cf-gitbot     bot\n",
      "16                        stale[bot]     bot\n",
      "17              scrutinizer-notifier     bot\n",
      "18                         googlebot     bot\n",
      "19                              bors     bot\n",
      "20                      k8s-ci-robot     bot\n",
      "21                        tessel-bot     bot\n",
      "22  resin-io-modules-versionbot[bot]     bot\n",
      "23                        cfdreddbot     bot\n",
      "24                  greenkeeper[bot]     bot\n",
      "               login type_GT\n",
      "1467   KeithGillette   human\n",
      "1468        ceehaupt   human\n",
      "1469           axten   human\n",
      "1470         nytamin   human\n",
      "1471      daveaglick   human\n",
      "1472        pathawks   human\n",
      "1473       portellaa   human\n",
      "1474         UsulPro   human\n",
      "1475            yuce   human\n",
      "1476           p0nce   human\n",
      "1477  DimitarTodorov   human\n",
      "1478    ProfHoekstra   human\n",
      "1479    nathanschile   human\n",
      "1480           zqfan   human\n",
      "1481             rdp   human\n",
      "1482    chunyenHuang   human\n",
      "1483        ndrwrbgs   human\n",
      "1484         jonbern   human\n",
      "1485    absolute8511   human\n",
      "1486            rixx   human\n",
      "1487        raphaelm   human\n",
      "1488      TroyAlford   human\n",
      "1489           daffl   human\n",
      "1490   bryanyang0528   human\n",
      "1491     ConnorRigby   human\n"
     ]
    }
   ],
   "source": [
    "b_set = account.head(25) #bot set of size 25\n",
    "h_set = account.tail(25) #human set of size 25\n",
    "m_set = pd.concat([b_set,h_set])                 #mixed set of size 50\n",
    "m_set = m_set.reset_index(drop = True)           #maybe not needed but \"cleans\" the dataframe\n",
    "                                                 # so it goes from 1 to 50 instead of 1 to 25 then 1467 to 1491\n",
    "print(m_set.to_string())\n",
    "print(b_set.to_string())\n",
    "print(h_set.to_string())"
   ]
  },
  {
   "cell_type": "markdown",
   "id": "eaf43f31-f36d-4a5f-86a6-6c6f6a08b85d",
   "metadata": {},
   "source": [
    "Création d'une dataframe plus petite pour commencer"
   ]
  },
  {
   "cell_type": "code",
   "execution_count": 6,
   "id": "cda8429b",
   "metadata": {},
   "outputs": [],
   "source": [
    "# payload1 = {'per_page' : '100' ,'page' : '1'}\n",
    "# r1 = requests.get(\"https://api.github.com/users/brotherlogic/events\",params=payload1)\n",
    "# act1 = r1.json()\n",
    "# payload2 = {'per_page' : '100' ,'page' : '2'}\n",
    "# r2 = requests.get(\"https://api.github.com/users/brotherlogic/events\",params=payload2)\n",
    "# act2 = r2.json()\n",
    "# res = act1+act2\n",
    "# with open (\"test.json\" ,\"w\") as outfile:\n",
    "#     json.dump(res,outfile,indent = 4)\n",
    "#     outfile.close()"
   ]
  },
  {
   "cell_type": "code",
   "execution_count": 19,
   "id": "b3f43d82",
   "metadata": {},
   "outputs": [
    {
     "data": {
      "text/plain": [
       "<bound method NDFrame.describe of               id         type  \\\n",
       "0    24958338605  IssuesEvent   \n",
       "1    24958278002    PushEvent   \n",
       "2    24958269327    PushEvent   \n",
       "3    24958232280    PushEvent   \n",
       "4    24958226193    PushEvent   \n",
       "..           ...          ...   \n",
       "295  24940500593  IssuesEvent   \n",
       "296  24940499608  IssuesEvent   \n",
       "297  24940496347  IssuesEvent   \n",
       "298  24939731205  IssuesEvent   \n",
       "299  24939700020  IssuesEvent   \n",
       "\n",
       "                                                 actor  \\\n",
       "0    {'id': 5978, 'login': 'brotherlogic', 'display...   \n",
       "1    {'id': 5978, 'login': 'brotherlogic', 'display...   \n",
       "2    {'id': 5978, 'login': 'brotherlogic', 'display...   \n",
       "3    {'id': 5978, 'login': 'brotherlogic', 'display...   \n",
       "4    {'id': 5978, 'login': 'brotherlogic', 'display...   \n",
       "..                                                 ...   \n",
       "295  {'id': 5978, 'login': 'brotherlogic', 'display...   \n",
       "296  {'id': 5978, 'login': 'brotherlogic', 'display...   \n",
       "297  {'id': 5978, 'login': 'brotherlogic', 'display...   \n",
       "298  {'id': 5978, 'login': 'brotherlogic', 'display...   \n",
       "299  {'id': 5978, 'login': 'brotherlogic', 'display...   \n",
       "\n",
       "                                                  repo  \\\n",
       "0    {'id': 138803257, 'name': 'brotherlogic/proxy'...   \n",
       "1    {'id': 61504044, 'name': 'brotherlogic/discove...   \n",
       "2    {'id': 491714896, 'name': 'brotherlogic/builde...   \n",
       "3    {'id': 289582930, 'name': 'brotherlogic/digita...   \n",
       "4    {'id': 346025940, 'name': 'brotherlogic/printb...   \n",
       "..                                                 ...   \n",
       "295  {'id': 308747515, 'name': 'brotherlogic/record...   \n",
       "296  {'id': 117455905, 'name': 'brotherlogic/cdproc...   \n",
       "297  {'id': 489803052, 'name': 'brotherlogic/bandca...   \n",
       "298  {'id': 117455905, 'name': 'brotherlogic/cdproc...   \n",
       "299  {'id': 117455905, 'name': 'brotherlogic/cdproc...   \n",
       "\n",
       "                                               payload  public  \\\n",
       "0    {'action': 'opened', 'issue': {'url': 'https:/...    True   \n",
       "1    {'push_id': 11517205761, 'size': 1, 'distinct_...    True   \n",
       "2    {'push_id': 11517201537, 'size': 1, 'distinct_...    True   \n",
       "3    {'push_id': 11517183076, 'size': 1, 'distinct_...    True   \n",
       "4    {'push_id': 11517181453, 'size': 1, 'distinct_...    True   \n",
       "..                                                 ...     ...   \n",
       "295  {'action': 'closed', 'issue': {'url': 'https:/...    True   \n",
       "296  {'action': 'closed', 'issue': {'url': 'https:/...    True   \n",
       "297  {'action': 'closed', 'issue': {'url': 'https:/...    True   \n",
       "298  {'action': 'closed', 'issue': {'url': 'https:/...    True   \n",
       "299  {'action': 'opened', 'issue': {'url': 'https:/...    True   \n",
       "\n",
       "                   created_at  \n",
       "0   2022-11-01 13:41:56+00:00  \n",
       "1   2022-11-01 13:39:14+00:00  \n",
       "2   2022-11-01 13:38:51+00:00  \n",
       "3   2022-11-01 13:37:15+00:00  \n",
       "4   2022-11-01 13:37:06+00:00  \n",
       "..                        ...  \n",
       "295 2022-10-31 18:30:44+00:00  \n",
       "296 2022-10-31 18:30:42+00:00  \n",
       "297 2022-10-31 18:30:32+00:00  \n",
       "298 2022-10-31 17:52:49+00:00  \n",
       "299 2022-10-31 17:51:16+00:00  \n",
       "\n",
       "[300 rows x 7 columns]>"
      ]
     },
     "execution_count": 19,
     "metadata": {},
     "output_type": "execute_result"
    }
   ],
   "source": [
    "# df = pd.read_json(\"test.json\")\n",
    "# df.describe"
   ]
  },
  {
   "cell_type": "markdown",
   "id": "dd5a5e1c",
   "metadata": {},
   "source": [
    "Global idea on how to get a better json file"
   ]
  },
  {
   "cell_type": "code",
   "execution_count": 31,
   "id": "6be3685c",
   "metadata": {},
   "outputs": [],
   "source": [
    "i = 1 \n",
    "payload  = {'per_page' : '100' ,'page' : '{}'.format(i)}\n",
    "res = requests.get(\"https://api.github.com/users/brotherlogic/events\",params=payload).json()\n",
    "while (i < 3):\n",
    "    i = i+1\n",
    "    tmp = (requests.get(\"https://api.github.com/users/brotherlogic/events\",params=payload)).json()\n",
    "    res += tmp\n",
    "with open (\"test.json\" ,\"w\") as outfile:\n",
    "    json.dump(res,outfile,indent = 4)\n",
    "    outfile.close()\n"
   ]
  },
  {
   "cell_type": "code",
   "execution_count": 29,
   "id": "e28159b8",
   "metadata": {},
   "outputs": [],
   "source": [
    "def get_activities(login):\n",
    "    i = 1 \n",
    "    payload  = {'per_page' : '100' ,'page' : '{}'.format(i)}\n",
    "    res = requests.get(\"https://api.github.com/users/{}/events\".format(login),params=payload).json()\n",
    "    while (i < 3):\n",
    "        i = i+1\n",
    "        tmp = (requests.get(\"https://api.github.com/users/{}/events\".format(login),params=payload)).json()\n",
    "        res += tmp\n",
    "    with open (\"./activities/{}.json\".format(login) ,\"w\") as outfile:\n",
    "        json.dump(res,outfile,indent = 4)\n",
    "        outfile.close()"
   ]
  },
  {
   "cell_type": "code",
   "execution_count": 32,
   "id": "7e4e5427",
   "metadata": {},
   "outputs": [],
   "source": [
    "get_activities(\"brotherlogic\")"
   ]
  },
  {
   "cell_type": "code",
   "execution_count": 44,
   "id": "a416e2d4",
   "metadata": {},
   "outputs": [],
   "source": [
    "payload = {'per_page' : '100' ,'page' : '1'}\n",
    "r = requests.get(\"https://api.github.com/users/brotherlogic/events\",params=payload)\n",
    "activity = r.json()\n",
    "with open (\"./new.json\",\"w\") as outfile:\n",
    "    json.dump(activity,outfile, indent = 4)\n",
    "outfile.close()"
   ]
  },
  {
   "cell_type": "code",
   "execution_count": 67,
   "id": "c97e79c0-1b8d-408b-80ae-947e7557e0bc",
   "metadata": {},
   "outputs": [],
   "source": [
    "# def getactivities(list_login):\n",
    "#     for login in list_login:\n",
    "#         for i in range (1,4):\n",
    "#             payload = {'per_page' : '100' ,'page' : '{}'.format(i)}\n",
    "#             r = requests.get(\"https://api.github.com/users/{name}/events\".format(name=login),params=payload)\n",
    "#             activity = r.json()\n",
    "#             with open(\"./activities/{name}{number}.json\".format(name = login,number = i),\"w\") as outfile:\n",
    "#                 json.dump(activity,outfile,indent = 4)\n",
    "#             outfile.close()"
   ]
  },
  {
   "cell_type": "markdown",
   "id": "c2805dd6-d54f-46cf-9bfe-bd17462b7845",
   "metadata": {},
   "source": [
    "Création d'une fonction pour récupérer les activités des comptes.\n",
    "Vérifier pourquoi certains fichiers json sont juste sous la forme root: \"[]\"\n",
    "Vérifier aussi pourquoi les fichiers ne sont plus \"reconnu\" comme json (regarder fichier test.json et event.json)\n",
    "Problème réglés (changer le r.text en r.json() )\n",
    "Ne marche plus après être passé sur vscode\n",
    "rematche après avoir ajouté indentation mais fonction modifié revu pour généré moins de fichiers"
   ]
  },
  {
   "cell_type": "markdown",
   "id": "7e497398",
   "metadata": {},
   "source": []
  },
  {
   "cell_type": "code",
   "execution_count": 35,
   "id": "09cfcf93-d25e-46b1-b475-8cd3281b623e",
   "metadata": {},
   "outputs": [
    {
     "name": "stdout",
     "output_type": "stream",
     "text": [
      "['brotherlogic', 'coveralls', 'renovate', 'leocwlam', 'fabric8cd']\n"
     ]
    }
   ],
   "source": [
    "sample = account.head(5)\n",
    "login_sample = sample.login.values.tolist()\n",
    "print(login_sample)\n",
    "\n",
    "for log in login_sample:\n",
    "    get_activities(log)"
   ]
  },
  {
   "cell_type": "code",
   "execution_count": 33,
   "id": "a24813d5-54fc-4176-9a5d-3ec099964252",
   "metadata": {},
   "outputs": [
    {
     "name": "stdout",
     "output_type": "stream",
     "text": [
      "['raphaelm', 'TroyAlford', 'daffl', 'bryanyang0528', 'ConnorRigby']\n"
     ]
    }
   ],
   "source": [
    "sample1 = account.tail(5)\n",
    "login_sample1 = sample1.login.values.tolist()\n",
    "print(login_sample1)\n",
    "\n",
    "for log in login_sample1:\n",
    "    get_activities(log)"
   ]
  },
  {
   "cell_type": "markdown",
   "id": "435ee653-b187-4d77-b0b3-e9f2ef260fd1",
   "metadata": {},
   "source": [
    "Utilisation de la fonction et récupération une première fois des activités des comptes"
   ]
  },
  {
   "cell_type": "code",
   "execution_count": 10,
   "id": "5c0bc281-f063-4dca-b188-45e28f1c4047",
   "metadata": {},
   "outputs": [
    {
     "name": "stdout",
     "output_type": "stream",
     "text": [
      "Index(['id', 'type', 'actor', 'repo', 'payload', 'public', 'created_at',\n",
      "       'org'],\n",
      "      dtype='object')\n"
     ]
    },
    {
     "data": {
      "text/plain": [
       "0    PushEvent\n",
       "1    PushEvent\n",
       "2    PushEvent\n",
       "Name: type, dtype: object"
      ]
     },
     "execution_count": 10,
     "metadata": {},
     "output_type": "execute_result"
    }
   ],
   "source": [
    "df = pd.read_json(\"./activities/TroyAlford1.json\")\n",
    "df.describe\n",
    "lst = df.keys()\n",
    "print(lst)\n",
    "df.get('type')"
   ]
  },
  {
   "cell_type": "code",
   "execution_count": 64,
   "id": "75643d70",
   "metadata": {},
   "outputs": [
    {
     "data": {
      "text/html": [
       "<div>\n",
       "<style scoped>\n",
       "    .dataframe tbody tr th:only-of-type {\n",
       "        vertical-align: middle;\n",
       "    }\n",
       "\n",
       "    .dataframe tbody tr th {\n",
       "        vertical-align: top;\n",
       "    }\n",
       "\n",
       "    .dataframe thead th {\n",
       "        text-align: right;\n",
       "    }\n",
       "</style>\n",
       "<table border=\"1\" class=\"dataframe\">\n",
       "  <thead>\n",
       "    <tr style=\"text-align: right;\">\n",
       "      <th></th>\n",
       "      <th>id</th>\n",
       "      <th>type</th>\n",
       "      <th>actor</th>\n",
       "      <th>repo</th>\n",
       "      <th>payload</th>\n",
       "      <th>public</th>\n",
       "      <th>created_at</th>\n",
       "      <th>org</th>\n",
       "    </tr>\n",
       "  </thead>\n",
       "  <tbody>\n",
       "    <tr>\n",
       "      <th>0</th>\n",
       "      <td>24941116800</td>\n",
       "      <td>WatchEvent</td>\n",
       "      <td>{'id': 21150830, 'login': 'ConnorRigby', 'disp...</td>\n",
       "      <td>{'id': 27141825, 'name': 'mlabbe/nativefiledia...</td>\n",
       "      <td>{'action': 'started'}</td>\n",
       "      <td>True</td>\n",
       "      <td>2022-10-31 19:02:33+00:00</td>\n",
       "      <td>NaN</td>\n",
       "    </tr>\n",
       "    <tr>\n",
       "      <th>1</th>\n",
       "      <td>24933705194</td>\n",
       "      <td>WatchEvent</td>\n",
       "      <td>{'id': 21150830, 'login': 'ConnorRigby', 'disp...</td>\n",
       "      <td>{'id': 350303910, 'name': 'hyper-tuner/hyper-t...</td>\n",
       "      <td>{'action': 'started'}</td>\n",
       "      <td>True</td>\n",
       "      <td>2022-10-31 13:40:46+00:00</td>\n",
       "      <td>{'id': 81159173, 'login': 'hyper-tuner', 'grav...</td>\n",
       "    </tr>\n",
       "    <tr>\n",
       "      <th>2</th>\n",
       "      <td>24933702430</td>\n",
       "      <td>WatchEvent</td>\n",
       "      <td>{'id': 21150830, 'login': 'ConnorRigby', 'disp...</td>\n",
       "      <td>{'id': 285786862, 'name': 'shish/rosettaboy', ...</td>\n",
       "      <td>{'action': 'started'}</td>\n",
       "      <td>True</td>\n",
       "      <td>2022-10-31 13:40:40+00:00</td>\n",
       "      <td>NaN</td>\n",
       "    </tr>\n",
       "    <tr>\n",
       "      <th>3</th>\n",
       "      <td>24933693635</td>\n",
       "      <td>WatchEvent</td>\n",
       "      <td>{'id': 21150830, 'login': 'ConnorRigby', 'disp...</td>\n",
       "      <td>{'id': 559733286, 'name': 'akoutmos/file_uploa...</td>\n",
       "      <td>{'action': 'started'}</td>\n",
       "      <td>True</td>\n",
       "      <td>2022-10-31 13:40:17+00:00</td>\n",
       "      <td>NaN</td>\n",
       "    </tr>\n",
       "    <tr>\n",
       "      <th>4</th>\n",
       "      <td>24924241783</td>\n",
       "      <td>PushEvent</td>\n",
       "      <td>{'id': 21150830, 'login': 'ConnorRigby', 'disp...</td>\n",
       "      <td>{'id': 555662851, 'name': 'ConnorRigby/rxkern'...</td>\n",
       "      <td>{'push_id': 11500150525, 'size': 1, 'distinct_...</td>\n",
       "      <td>True</td>\n",
       "      <td>2022-10-31 05:18:27+00:00</td>\n",
       "      <td>NaN</td>\n",
       "    </tr>\n",
       "    <tr>\n",
       "      <th>...</th>\n",
       "      <td>...</td>\n",
       "      <td>...</td>\n",
       "      <td>...</td>\n",
       "      <td>...</td>\n",
       "      <td>...</td>\n",
       "      <td>...</td>\n",
       "      <td>...</td>\n",
       "      <td>...</td>\n",
       "    </tr>\n",
       "    <tr>\n",
       "      <th>295</th>\n",
       "      <td>24557983787</td>\n",
       "      <td>PushEvent</td>\n",
       "      <td>{'id': 21150830, 'login': 'ConnorRigby', 'disp...</td>\n",
       "      <td>{'id': 549116465, 'name': 'ConnorRigby/rx8-ecu...</td>\n",
       "      <td>{'push_id': 11308129628, 'size': 1, 'distinct_...</td>\n",
       "      <td>True</td>\n",
       "      <td>2022-10-12 17:31:34+00:00</td>\n",
       "      <td>NaN</td>\n",
       "    </tr>\n",
       "    <tr>\n",
       "      <th>296</th>\n",
       "      <td>24557311005</td>\n",
       "      <td>PushEvent</td>\n",
       "      <td>{'id': 21150830, 'login': 'ConnorRigby', 'disp...</td>\n",
       "      <td>{'id': 549116465, 'name': 'ConnorRigby/rx8-ecu...</td>\n",
       "      <td>{'push_id': 11307803035, 'size': 1, 'distinct_...</td>\n",
       "      <td>True</td>\n",
       "      <td>2022-10-12 16:56:36+00:00</td>\n",
       "      <td>NaN</td>\n",
       "    </tr>\n",
       "    <tr>\n",
       "      <th>297</th>\n",
       "      <td>24554325916</td>\n",
       "      <td>PushEvent</td>\n",
       "      <td>{'id': 21150830, 'login': 'ConnorRigby', 'disp...</td>\n",
       "      <td>{'id': 549116465, 'name': 'ConnorRigby/rx8-ecu...</td>\n",
       "      <td>{'push_id': 11306370955, 'size': 1, 'distinct_...</td>\n",
       "      <td>True</td>\n",
       "      <td>2022-10-12 14:47:20+00:00</td>\n",
       "      <td>NaN</td>\n",
       "    </tr>\n",
       "    <tr>\n",
       "      <th>298</th>\n",
       "      <td>24554127049</td>\n",
       "      <td>WatchEvent</td>\n",
       "      <td>{'id': 21150830, 'login': 'ConnorRigby', 'disp...</td>\n",
       "      <td>{'id': 549243948, 'name': 'filipecabaco/iex_wa...</td>\n",
       "      <td>{'action': 'started'}</td>\n",
       "      <td>True</td>\n",
       "      <td>2022-10-12 14:39:42+00:00</td>\n",
       "      <td>NaN</td>\n",
       "    </tr>\n",
       "    <tr>\n",
       "      <th>299</th>\n",
       "      <td>24541433933</td>\n",
       "      <td>PushEvent</td>\n",
       "      <td>{'id': 21150830, 'login': 'ConnorRigby', 'disp...</td>\n",
       "      <td>{'id': 549116465, 'name': 'ConnorRigby/rx8-ecu...</td>\n",
       "      <td>{'push_id': 11300006660, 'size': 1, 'distinct_...</td>\n",
       "      <td>True</td>\n",
       "      <td>2022-10-12 04:22:16+00:00</td>\n",
       "      <td>NaN</td>\n",
       "    </tr>\n",
       "  </tbody>\n",
       "</table>\n",
       "<p>300 rows × 8 columns</p>\n",
       "</div>"
      ],
      "text/plain": [
       "              id        type  \\\n",
       "0    24941116800  WatchEvent   \n",
       "1    24933705194  WatchEvent   \n",
       "2    24933702430  WatchEvent   \n",
       "3    24933693635  WatchEvent   \n",
       "4    24924241783   PushEvent   \n",
       "..           ...         ...   \n",
       "295  24557983787   PushEvent   \n",
       "296  24557311005   PushEvent   \n",
       "297  24554325916   PushEvent   \n",
       "298  24554127049  WatchEvent   \n",
       "299  24541433933   PushEvent   \n",
       "\n",
       "                                                 actor  \\\n",
       "0    {'id': 21150830, 'login': 'ConnorRigby', 'disp...   \n",
       "1    {'id': 21150830, 'login': 'ConnorRigby', 'disp...   \n",
       "2    {'id': 21150830, 'login': 'ConnorRigby', 'disp...   \n",
       "3    {'id': 21150830, 'login': 'ConnorRigby', 'disp...   \n",
       "4    {'id': 21150830, 'login': 'ConnorRigby', 'disp...   \n",
       "..                                                 ...   \n",
       "295  {'id': 21150830, 'login': 'ConnorRigby', 'disp...   \n",
       "296  {'id': 21150830, 'login': 'ConnorRigby', 'disp...   \n",
       "297  {'id': 21150830, 'login': 'ConnorRigby', 'disp...   \n",
       "298  {'id': 21150830, 'login': 'ConnorRigby', 'disp...   \n",
       "299  {'id': 21150830, 'login': 'ConnorRigby', 'disp...   \n",
       "\n",
       "                                                  repo  \\\n",
       "0    {'id': 27141825, 'name': 'mlabbe/nativefiledia...   \n",
       "1    {'id': 350303910, 'name': 'hyper-tuner/hyper-t...   \n",
       "2    {'id': 285786862, 'name': 'shish/rosettaboy', ...   \n",
       "3    {'id': 559733286, 'name': 'akoutmos/file_uploa...   \n",
       "4    {'id': 555662851, 'name': 'ConnorRigby/rxkern'...   \n",
       "..                                                 ...   \n",
       "295  {'id': 549116465, 'name': 'ConnorRigby/rx8-ecu...   \n",
       "296  {'id': 549116465, 'name': 'ConnorRigby/rx8-ecu...   \n",
       "297  {'id': 549116465, 'name': 'ConnorRigby/rx8-ecu...   \n",
       "298  {'id': 549243948, 'name': 'filipecabaco/iex_wa...   \n",
       "299  {'id': 549116465, 'name': 'ConnorRigby/rx8-ecu...   \n",
       "\n",
       "                                               payload  public  \\\n",
       "0                                {'action': 'started'}    True   \n",
       "1                                {'action': 'started'}    True   \n",
       "2                                {'action': 'started'}    True   \n",
       "3                                {'action': 'started'}    True   \n",
       "4    {'push_id': 11500150525, 'size': 1, 'distinct_...    True   \n",
       "..                                                 ...     ...   \n",
       "295  {'push_id': 11308129628, 'size': 1, 'distinct_...    True   \n",
       "296  {'push_id': 11307803035, 'size': 1, 'distinct_...    True   \n",
       "297  {'push_id': 11306370955, 'size': 1, 'distinct_...    True   \n",
       "298                              {'action': 'started'}    True   \n",
       "299  {'push_id': 11300006660, 'size': 1, 'distinct_...    True   \n",
       "\n",
       "                   created_at  \\\n",
       "0   2022-10-31 19:02:33+00:00   \n",
       "1   2022-10-31 13:40:46+00:00   \n",
       "2   2022-10-31 13:40:40+00:00   \n",
       "3   2022-10-31 13:40:17+00:00   \n",
       "4   2022-10-31 05:18:27+00:00   \n",
       "..                        ...   \n",
       "295 2022-10-12 17:31:34+00:00   \n",
       "296 2022-10-12 16:56:36+00:00   \n",
       "297 2022-10-12 14:47:20+00:00   \n",
       "298 2022-10-12 14:39:42+00:00   \n",
       "299 2022-10-12 04:22:16+00:00   \n",
       "\n",
       "                                                   org  \n",
       "0                                                  NaN  \n",
       "1    {'id': 81159173, 'login': 'hyper-tuner', 'grav...  \n",
       "2                                                  NaN  \n",
       "3                                                  NaN  \n",
       "4                                                  NaN  \n",
       "..                                                 ...  \n",
       "295                                                NaN  \n",
       "296                                                NaN  \n",
       "297                                                NaN  \n",
       "298                                                NaN  \n",
       "299                                                NaN  \n",
       "\n",
       "[300 rows x 8 columns]"
      ]
     },
     "execution_count": 64,
     "metadata": {},
     "output_type": "execute_result"
    }
   ],
   "source": [
    "def get_dataframe(login):\n",
    "    return (pd.read_json(\"./activities/{}.json\".format(login)))\n",
    "\n",
    "get_dataframe(\"ConnorRigby\")\n"
   ]
  },
  {
   "cell_type": "markdown",
   "id": "3f47f37a",
   "metadata": {},
   "source": [
    "Basic function giving us the dataframe of the activities based on the login"
   ]
  },
  {
   "cell_type": "code",
   "execution_count": null,
   "id": "fd5e60ff-76e7-4291-88f8-91de0f7f7b80",
   "metadata": {},
   "outputs": [
    {
     "name": "stdout",
     "output_type": "stream",
     "text": [
      "{'IssueCommentEvent': 100}\n"
     ]
    }
   ],
   "source": [
    "df = pd.read_json(\"./activities/coveralls3.json\")\n",
    "\n",
    "df.describe\n",
    "lst = df.keys()\n",
    "#print(lst)\n",
    "#print(df['type'].values)\n",
    "dict = {}\n",
    "for val in df['type'].values:\n",
    "    if val not in dict:\n",
    "        dict[val]= 1\n",
    "    else:\n",
    "        dict[val] = dict[val] +1\n",
    "print(dict)\n",
    "#print(lst)\n",
    "# lst1 = df['id'].values\n",
    "# print(lst1)\n",
    "# df.get('type')\n",
    "# df.get('repo')\n"
   ]
  },
  {
   "cell_type": "markdown",
   "id": "ca55deaa",
   "metadata": {},
   "source": [
    "Global idea on how to get how many time the same action is done by a certain account"
   ]
  },
  {
   "cell_type": "code",
   "execution_count": 41,
   "id": "e89cb89b",
   "metadata": {},
   "outputs": [
    {
     "data": {
      "text/plain": [
       "{'PushEvent': 174, 'IssuesEvent': 123, 'CreateEvent': 3}"
      ]
     },
     "execution_count": 41,
     "metadata": {},
     "output_type": "execute_result"
    }
   ],
   "source": [
    "def count_type(login):\n",
    "    df = get_dataframe(login)\n",
    "    dict = {}\n",
    "    for val in df['type'].values:\n",
    "        if val not in dict:\n",
    "            dict[val]= 1\n",
    "        else:\n",
    "            dict[val] = dict[val] +1\n",
    "    return dict\n",
    "count_type('brotherlogic')    "
   ]
  },
  {
   "cell_type": "markdown",
   "id": "b321309d",
   "metadata": {},
   "source": [
    "Fuction used to get how many different actions the user is doing"
   ]
  },
  {
   "cell_type": "code",
   "execution_count": 62,
   "id": "7eb6996d",
   "metadata": {},
   "outputs": [
    {
     "data": {
      "text/plain": [
       "{61504044: 21,\n",
       " 138803257: 6,\n",
       " 491714896: 6,\n",
       " 289582930: 6,\n",
       " 346025940: 3,\n",
       " 306479039: 9,\n",
       " 372298022: 9,\n",
       " 380873229: 6,\n",
       " 385611322: 9,\n",
       " 85901965: 18,\n",
       " 61679154: 3,\n",
       " 468560808: 6,\n",
       " 119125936: 18,\n",
       " 37637381: 12,\n",
       " 126895323: 24,\n",
       " 253363485: 12,\n",
       " 88692716: 15,\n",
       " 117455905: 21,\n",
       " 268349953: 9,\n",
       " 231665559: 3,\n",
       " 489803052: 12,\n",
       " 219354060: 9,\n",
       " 163995429: 6,\n",
       " 302970056: 3,\n",
       " 64814936: 3,\n",
       " 145352435: 3,\n",
       " 65092169: 3,\n",
       " 91290267: 3,\n",
       " 100546584: 3,\n",
       " 132056682: 3,\n",
       " 194943402: 3,\n",
       " 265401752: 3,\n",
       " 163232136: 3,\n",
       " 308747515: 6,\n",
       " 111351800: 3,\n",
       " 440266427: 3,\n",
       " 186708953: 3,\n",
       " 233285982: 3,\n",
       " 239891495: 3,\n",
       " 382718480: 3,\n",
       " 152934848: 3}"
      ]
     },
     "execution_count": 62,
     "metadata": {},
     "output_type": "execute_result"
    }
   ],
   "source": [
    "def count_repo(login):\n",
    "    df = get_dataframe(login)\n",
    "    dict = {}\n",
    "    repo = df.get('repo')\n",
    "    for line in repo:\n",
    "        tmp = (line['id'])\n",
    "        if tmp not in dict :\n",
    "            dict[tmp] = 1\n",
    "        else : \n",
    "            dict[tmp] = dict[tmp] + 1\n",
    "    return dict            \n",
    "count_repo(\"brotherlogic\")"
   ]
  },
  {
   "cell_type": "code",
   "execution_count": 156,
   "id": "e84d154c",
   "metadata": {},
   "outputs": [],
   "source": [
    "import math\n",
    "def varr_time(login):\n",
    "    df = get_dataframe(login)\n",
    "    df['created_at'] = df['created_at'].dt.strftime(\"%s\").astype(int) #give time since epoch in seconds\n",
    "    mean_t = df['created_at'].mean()\n",
    "    sum = 0\n",
    "    for i in range (len(df)):\n",
    "        sum += math.pow((df[\"created_at\"].get(0)- mean_t),2)\n",
    "    sum = sum/(len(df) -1)\n",
    "    return sum\n",
    "\n",
    "\n",
    "def std_dev(login):\n",
    "    return math.sqrt(varr_time(login))"
   ]
  },
  {
   "cell_type": "code",
   "execution_count": 145,
   "id": "17746f14",
   "metadata": {},
   "outputs": [
    {
     "name": "stdout",
     "output_type": "stream",
     "text": [
      "1667258515.5\n"
     ]
    }
   ],
   "source": [
    "df = get_dataframe(\"brotherlogic\")\n",
    "df['created_at'] = df['created_at'].dt.strftime(\"%s\").astype(int) #give time since epoch in seconds\n",
    "mean_t = df['created_at'].mean()\n",
    "print(mean_t)\n"
   ]
  }
 ],
 "metadata": {
  "kernelspec": {
   "display_name": "Python 3 (ipykernel)",
   "language": "python",
   "name": "python3"
  },
  "language_info": {
   "codemirror_mode": {
    "name": "ipython",
    "version": 3
   },
   "file_extension": ".py",
   "mimetype": "text/x-python",
   "name": "python",
   "nbconvert_exporter": "python",
   "pygments_lexer": "ipython3",
   "version": "3.10.6"
  },
  "vscode": {
   "interpreter": {
    "hash": "916dbcbb3f70747c44a77c7bcd40155683ae19c65e1c03b4aa3499c5328201f1"
   }
  }
 },
 "nbformat": 4,
 "nbformat_minor": 5
}
