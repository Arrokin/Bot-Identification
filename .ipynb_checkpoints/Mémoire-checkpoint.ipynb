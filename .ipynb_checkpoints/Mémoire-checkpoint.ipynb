{
 "cells": [
  {
   "cell_type": "code",
   "execution_count": 1,
   "id": "771094f6-aea3-412d-a396-9318836a96e1",
   "metadata": {},
   "outputs": [
    {
     "data": {
      "text/plain": [
       "<Response [200]>"
      ]
     },
     "execution_count": 1,
     "metadata": {},
     "output_type": "execute_result"
    }
   ],
   "source": [
    "import pandas as pd\n",
    "import numpy as np\n",
    "import requests \n",
    "import json\n",
    "requests.get('https://api.github.com')\n"
   ]
  },
  {
   "cell_type": "markdown",
   "id": "888076c8-5430-4efe-a93a-42a48d755dd4",
   "metadata": {},
   "source": [
    "Importation des librairies et test de la libraire requests"
   ]
  },
  {
   "cell_type": "code",
   "execution_count": 2,
   "id": "e392c409-0b1f-4c52-9250-55c1f77e0d2e",
   "metadata": {},
   "outputs": [
    {
     "data": {
      "text/plain": [
       "<bound method NDFrame.describe of               login type_GT\n",
       "0      brotherlogic     bot\n",
       "1         coveralls     bot\n",
       "2          renovate     bot\n",
       "3          leocwlam     bot\n",
       "4         fabric8cd     bot\n",
       "...             ...     ...\n",
       "1487       raphaelm   human\n",
       "1488     TroyAlford   human\n",
       "1489          daffl   human\n",
       "1490  bryanyang0528   human\n",
       "1491    ConnorRigby   human\n",
       "\n",
       "[1492 rows x 2 columns]>"
      ]
     },
     "execution_count": 2,
     "metadata": {},
     "output_type": "execute_result"
    }
   ],
   "source": [
    "account = pd.read_csv(\"account_groundTruth[92].csv\")\n",
    "account = account.iloc[:,[1,2]] #used because otherwise the account number are there twice \n",
    "# 0              0                       brotherlogic     bot        \n",
    "#instead of\n",
    "#0                       brotherlogic     bot\n",
    "#print(account.to_string())\n",
    "account.describe"
   ]
  },
  {
   "cell_type": "markdown",
   "id": "b2668635-e2d1-4c0f-81b5-dba7af55b584",
   "metadata": {},
   "source": [
    "Utilisation de panda pour récupérer la base de données contenant les bots et compte humains."
   ]
  },
  {
   "cell_type": "code",
   "execution_count": 3,
   "id": "788337ac-4589-4370-a299-14cee30d5adb",
   "metadata": {},
   "outputs": [
    {
     "data": {
      "text/plain": [
       "'bot'"
      ]
     },
     "execution_count": 3,
     "metadata": {},
     "output_type": "execute_result"
    }
   ],
   "source": [
    "values = account.values\n",
    "checker = dict(values)\n",
    "checker[\"brotherlogic\"]"
   ]
  },
  {
   "cell_type": "markdown",
   "id": "18bdba34-0f2a-4ce2-9efa-ce4f631e8841",
   "metadata": {},
   "source": [
    "Création d'un dictionnaire pour que lorsque la fonction de recherche pour les bots sera établie, si celle ci a bien détecté un bot ou non."
   ]
  },
  {
   "cell_type": "code",
   "execution_count": 4,
   "id": "da171dfb-fa3f-420d-8efe-b047079994f2",
   "metadata": {},
   "outputs": [],
   "source": [
    "\"\"\"\n",
    "def check(login,boolBot):\n",
    "    if (boolBot):\n",
    "        return (checker[login] == \"bot\")\n",
    "    else:\n",
    "        return (checker[login] == \"human\")\n",
    "    \n",
    "print(check(\"brotherlogic\",True))\n",
    "print(check(\"coveralls\",False))\n",
    "print(check(\"ConnorRigby\",False))\n",
    "print(check(\"ConnorRigby\",True))\n",
    "\"\"\"\n",
    "def checkbot(login):\n",
    "    return (checker[login] == \"bot\")\n",
    "\n",
    "def checkhuman(login):\n",
    "    return (checker[login] == \"human\")\n",
    "\n"
   ]
  },
  {
   "cell_type": "markdown",
   "id": "644a3345-a3ff-48b9-bc5d-c3d3cdfb03b9",
   "metadata": {},
   "source": [
    "Fonctions servant juste à vérifier correctement dans le dictionnaire"
   ]
  },
  {
   "cell_type": "code",
   "execution_count": 5,
   "id": "89fe1a32-7e5c-4404-973b-94074706b616",
   "metadata": {},
   "outputs": [],
   "source": [
    "b_set = account.head(25) #bot set of size 25\n",
    "h_set = account.tail(25) #human set of size 25\n",
    "m_set = pd.concat([b_set,h_set])                 #mixed set of size 50\n",
    "m_set = m_set.reset_index(drop = True)           #maybe not needed but \"cleans\" the dataframe\n",
    "                                                 # so it goes from 1 to 50 instead of 1 to 25 then 1467 to 1491\n",
    "#print(m_set.to_string())\n",
    "#print(b_set.to_string())\n",
    "#print(h_set.to_string())"
   ]
  },
  {
   "cell_type": "markdown",
   "id": "eaf43f31-f36d-4a5f-86a6-6c6f6a08b85d",
   "metadata": {},
   "source": [
    "Création d'une dataframe plus petite pour commencer"
   ]
  },
  {
   "cell_type": "code",
   "execution_count": 22,
   "id": "a7e6abe6-7d0e-4139-8e75-9e0a4b50a715",
   "metadata": {},
   "outputs": [],
   "source": [
    "#r = requests.get('https://api.github.com/events')\n",
    "r = requests.get(\"https://api.github.com/users/brotherlogic/events\")\n",
    "activity = r.json()\n",
    "#print(activity)\n",
    "\n",
    "\n",
    "\n"
   ]
  },
  {
   "cell_type": "raw",
   "id": "f8f4e6bd-9887-44ce-987b-7b73a44bd5da",
   "metadata": {},
   "source": [
    "with open (\"test.json\",\"w\") as outfile:\n",
    "    outfile.write(json.dumps(activity,indent = 4))\n",
    "#activity = r.text\n",
    "\n",
    "with open (\"test.json\",\"w\") as outfile:\n",
    "    json.dump(activity,outfile,indent = 4)\n",
    "\n",
    "with open (\"events.json\",\"r\") as handle:\n",
    "    parsed = json.load(handle)\n",
    "    print(parsed)\n",
    "#print(activity)\n",
    "\n",
    "\n",
    "different essais pour avoir un \"bon\" drop d'un fichier .json\n"
   ]
  },
  {
   "cell_type": "code",
   "execution_count": 23,
   "id": "c97e79c0-1b8d-408b-80ae-947e7557e0bc",
   "metadata": {},
   "outputs": [],
   "source": [
    "def getactivities(list_login):\n",
    "    for login in list_login:\n",
    "        r = requests.get(\"https://api.github.com/users/{name}/events\".format(name=login))\n",
    "        activity = r.json()\n",
    "        with open(\"./activities/{name}.json\".format(name = login),\"w\") as outfile:\n",
    "            json.dump(activity,outfile)"
   ]
  },
  {
   "cell_type": "markdown",
   "id": "c2805dd6-d54f-46cf-9bfe-bd17462b7845",
   "metadata": {},
   "source": [
    "Création d'une fonction pour récupérer les activités des comptes.\n",
    "Vérifier pourquoi certains fichiers json sont juste sous la forme root: \"[]\"\n",
    "Vérifier aussi pourquoi les fichiers ne sont plus \"reconnu\" comme json (regarder fichier test.json et event.json)\n",
    "Problème réglés (changer le r.text en r.json() )"
   ]
  },
  {
   "cell_type": "code",
   "execution_count": 24,
   "id": "09cfcf93-d25e-46b1-b475-8cd3281b623e",
   "metadata": {},
   "outputs": [
    {
     "name": "stdout",
     "output_type": "stream",
     "text": [
      "['brotherlogic', 'coveralls', 'renovate', 'leocwlam', 'fabric8cd']\n"
     ]
    }
   ],
   "source": [
    "sample = account.head(5)\n",
    "login_sample = sample.login.values.tolist()\n",
    "print(login_sample)\n",
    "\n",
    "getactivities(login_sample)"
   ]
  },
  {
   "cell_type": "code",
   "execution_count": 25,
   "id": "a24813d5-54fc-4176-9a5d-3ec099964252",
   "metadata": {},
   "outputs": [
    {
     "name": "stdout",
     "output_type": "stream",
     "text": [
      "['raphaelm', 'TroyAlford', 'daffl', 'bryanyang0528', 'ConnorRigby']\n"
     ]
    }
   ],
   "source": [
    "sample1 = account.tail(5)\n",
    "login_sample1 = sample1.login.values.tolist()\n",
    "print(login_sample1)\n",
    "\n",
    "getactivities(login_sample1)"
   ]
  },
  {
   "cell_type": "markdown",
   "id": "435ee653-b187-4d77-b0b3-e9f2ef260fd1",
   "metadata": {},
   "source": [
    "Utilisation de la fonction et récupération une première fois des activités des comptes"
   ]
  },
  {
   "cell_type": "code",
   "execution_count": null,
   "id": "5c0bc281-f063-4dca-b188-45e28f1c4047",
   "metadata": {},
   "outputs": [],
   "source": []
  }
 ],
 "metadata": {
  "kernelspec": {
   "display_name": "Python 3 (ipykernel)",
   "language": "python",
   "name": "python3"
  },
  "language_info": {
   "codemirror_mode": {
    "name": "ipython",
    "version": 3
   },
   "file_extension": ".py",
   "mimetype": "text/x-python",
   "name": "python",
   "nbconvert_exporter": "python",
   "pygments_lexer": "ipython3",
   "version": "3.10.6"
  }
 },
 "nbformat": 4,
 "nbformat_minor": 5
}
